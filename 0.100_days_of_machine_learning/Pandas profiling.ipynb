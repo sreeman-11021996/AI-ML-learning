{
 "cells": [
  {
   "cell_type": "code",
   "execution_count": 1,
   "id": "261dfb84",
   "metadata": {},
   "outputs": [],
   "source": [
    "import pandas as pd"
   ]
  },
  {
   "cell_type": "code",
   "execution_count": 9,
   "id": "94ec86f0",
   "metadata": {},
   "outputs": [],
   "source": [
    "df = pd.read_csv('StatewiseTestingDetails-Copy1.csv')"
   ]
  },
  {
   "cell_type": "code",
   "execution_count": 7,
   "id": "8f6383ed",
   "metadata": {},
   "outputs": [
    {
     "name": "stdout",
     "output_type": "stream",
     "text": [
      "Collecting https://github.com/pandas-profiling/pandas-profiling/archive/master.zip\n",
      "  Downloading https://github.com/pandas-profiling/pandas-profiling/archive/master.zip\n",
      "Collecting joblib~=1.1.0\n",
      "  Downloading joblib-1.1.0-py2.py3-none-any.whl (306 kB)\n",
      "Requirement already satisfied: scipy>=1.4.1 in c:\\users\\sreeman\\anaconda3\\lib\\site-packages (from pandas-profiling==3.1.1) (1.6.2)\n",
      "Requirement already satisfied: pandas!=1.0.0,!=1.0.1,!=1.0.2,!=1.1.0,>=0.25.3 in c:\\users\\sreeman\\anaconda3\\lib\\site-packages (from pandas-profiling==3.1.1) (1.2.4)\n",
      "Requirement already satisfied: matplotlib>=3.2.0 in c:\\users\\sreeman\\anaconda3\\lib\\site-packages (from pandas-profiling==3.1.1) (3.3.4)\n",
      "Requirement already satisfied: pydantic>=1.8.1 in c:\\users\\sreeman\\anaconda3\\lib\\site-packages (from pandas-profiling==3.1.1) (1.8.2)\n",
      "Requirement already satisfied: PyYAML>=5.0.0 in c:\\users\\sreeman\\anaconda3\\lib\\site-packages (from pandas-profiling==3.1.1) (5.4.1)\n",
      "Requirement already satisfied: jinja2>=2.11.1 in c:\\users\\sreeman\\anaconda3\\lib\\site-packages (from pandas-profiling==3.1.1) (2.11.3)\n",
      "Requirement already satisfied: markupsafe~=2.0.1 in c:\\users\\sreeman\\anaconda3\\lib\\site-packages (from pandas-profiling==3.1.1) (2.0.1)\n",
      "Requirement already satisfied: visions[type_image_path]==0.7.4 in c:\\users\\sreeman\\anaconda3\\lib\\site-packages (from pandas-profiling==3.1.1) (0.7.4)\n",
      "Requirement already satisfied: numpy>=1.16.0 in c:\\users\\sreeman\\anaconda3\\lib\\site-packages (from pandas-profiling==3.1.1) (1.20.1)\n",
      "Requirement already satisfied: htmlmin>=0.1.12 in c:\\users\\sreeman\\anaconda3\\lib\\site-packages (from pandas-profiling==3.1.1) (0.1.12)\n",
      "Requirement already satisfied: missingno>=0.4.2 in c:\\users\\sreeman\\anaconda3\\lib\\site-packages (from pandas-profiling==3.1.1) (0.5.0)\n",
      "Requirement already satisfied: phik>=0.11.1 in c:\\users\\sreeman\\anaconda3\\lib\\site-packages (from pandas-profiling==3.1.1) (0.12.0)\n",
      "Collecting tangled-up-in-unicode==0.2.0\n",
      "  Downloading tangled_up_in_unicode-0.2.0-py3-none-any.whl (4.7 MB)\n",
      "Requirement already satisfied: requests>=2.24.0 in c:\\users\\sreeman\\anaconda3\\lib\\site-packages (from pandas-profiling==3.1.1) (2.25.1)\n",
      "Requirement already satisfied: tqdm>=4.48.2 in c:\\users\\sreeman\\anaconda3\\lib\\site-packages (from pandas-profiling==3.1.1) (4.59.0)\n",
      "Requirement already satisfied: seaborn>=0.10.1 in c:\\users\\sreeman\\anaconda3\\lib\\site-packages (from pandas-profiling==3.1.1) (0.11.1)\n",
      "Requirement already satisfied: multimethod>=1.4 in c:\\users\\sreeman\\anaconda3\\lib\\site-packages (from pandas-profiling==3.1.1) (1.6)\n",
      "Requirement already satisfied: networkx>=2.4 in c:\\users\\sreeman\\anaconda3\\lib\\site-packages (from visions[type_image_path]==0.7.4->pandas-profiling==3.1.1) (2.5)\n",
      "Requirement already satisfied: attrs>=19.3.0 in c:\\users\\sreeman\\anaconda3\\lib\\site-packages (from visions[type_image_path]==0.7.4->pandas-profiling==3.1.1) (20.3.0)\n",
      "Requirement already satisfied: imagehash in c:\\users\\sreeman\\anaconda3\\lib\\site-packages (from visions[type_image_path]==0.7.4->pandas-profiling==3.1.1) (4.2.1)\n",
      "Requirement already satisfied: Pillow in c:\\users\\sreeman\\anaconda3\\lib\\site-packages (from visions[type_image_path]==0.7.4->pandas-profiling==3.1.1) (8.2.0)\n",
      "Requirement already satisfied: python-dateutil>=2.1 in c:\\users\\sreeman\\anaconda3\\lib\\site-packages (from matplotlib>=3.2.0->pandas-profiling==3.1.1) (2.8.1)\n",
      "Requirement already satisfied: cycler>=0.10 in c:\\users\\sreeman\\anaconda3\\lib\\site-packages (from matplotlib>=3.2.0->pandas-profiling==3.1.1) (0.10.0)\n",
      "Requirement already satisfied: pyparsing!=2.0.4,!=2.1.2,!=2.1.6,>=2.0.3 in c:\\users\\sreeman\\anaconda3\\lib\\site-packages (from matplotlib>=3.2.0->pandas-profiling==3.1.1) (2.4.7)\n",
      "Requirement already satisfied: kiwisolver>=1.0.1 in c:\\users\\sreeman\\anaconda3\\lib\\site-packages (from matplotlib>=3.2.0->pandas-profiling==3.1.1) (1.3.1)\n",
      "Requirement already satisfied: six in c:\\users\\sreeman\\anaconda3\\lib\\site-packages (from cycler>=0.10->matplotlib>=3.2.0->pandas-profiling==3.1.1) (1.15.0)\n",
      "Requirement already satisfied: decorator>=4.3.0 in c:\\users\\sreeman\\anaconda3\\lib\\site-packages (from networkx>=2.4->visions[type_image_path]==0.7.4->pandas-profiling==3.1.1) (5.0.6)\n",
      "Requirement already satisfied: pytz>=2017.3 in c:\\users\\sreeman\\anaconda3\\lib\\site-packages (from pandas!=1.0.0,!=1.0.1,!=1.0.2,!=1.1.0,>=0.25.3->pandas-profiling==3.1.1) (2021.1)\n",
      "Requirement already satisfied: typing-extensions>=3.7.4.3 in c:\\users\\sreeman\\anaconda3\\lib\\site-packages (from pydantic>=1.8.1->pandas-profiling==3.1.1) (3.7.4.3)\n",
      "Requirement already satisfied: certifi>=2017.4.17 in c:\\users\\sreeman\\anaconda3\\lib\\site-packages (from requests>=2.24.0->pandas-profiling==3.1.1) (2020.12.5)\n",
      "Requirement already satisfied: chardet<5,>=3.0.2 in c:\\users\\sreeman\\anaconda3\\lib\\site-packages (from requests>=2.24.0->pandas-profiling==3.1.1) (4.0.0)\n",
      "Requirement already satisfied: idna<3,>=2.5 in c:\\users\\sreeman\\anaconda3\\lib\\site-packages (from requests>=2.24.0->pandas-profiling==3.1.1) (2.10)\n",
      "Requirement already satisfied: urllib3<1.27,>=1.21.1 in c:\\users\\sreeman\\anaconda3\\lib\\site-packages (from requests>=2.24.0->pandas-profiling==3.1.1) (1.26.4)\n",
      "Requirement already satisfied: PyWavelets in c:\\users\\sreeman\\anaconda3\\lib\\site-packages (from imagehash->visions[type_image_path]==0.7.4->pandas-profiling==3.1.1) (1.1.1)Note: you may need to restart the kernel to use updated packages.\n",
      "\n",
      "Building wheels for collected packages: pandas-profiling\n",
      "  Building wheel for pandas-profiling (setup.py): started\n",
      "  Building wheel for pandas-profiling (setup.py): finished with status 'done'\n",
      "  Created wheel for pandas-profiling: filename=pandas_profiling-3.1.1-py2.py3-none-any.whl size=261270 sha256=b305664f2df93327de966ae47963d8dd72f2ca10f4bebae07380b62a8ca4e832\n",
      "  Stored in directory: C:\\Users\\SREEMAN\\AppData\\Local\\Temp\\pip-ephem-wheel-cache-2oos04ci\\wheels\\64\\b6\\85\\dfc808b23666a5910371784e349d28818006ff63ed9cfeca59\n",
      "Successfully built pandas-profiling\n",
      "Installing collected packages: tangled-up-in-unicode, joblib, pandas-profiling\n",
      "  Attempting uninstall: tangled-up-in-unicode\n",
      "    Found existing installation: tangled-up-in-unicode 0.1.0\n",
      "    Uninstalling tangled-up-in-unicode-0.1.0:\n",
      "      Successfully uninstalled tangled-up-in-unicode-0.1.0\n",
      "  Attempting uninstall: joblib\n",
      "    Found existing installation: joblib 1.0.1\n",
      "    Uninstalling joblib-1.0.1:\n",
      "      Successfully uninstalled joblib-1.0.1\n",
      "  Attempting uninstall: pandas-profiling\n",
      "    Found existing installation: pandas-profiling 3.1.0\n",
      "    Uninstalling pandas-profiling-3.1.0:\n",
      "      Successfully uninstalled pandas-profiling-3.1.0\n",
      "Successfully installed joblib-1.1.0 pandas-profiling-3.1.1 tangled-up-in-unicode-0.2.0\n"
     ]
    }
   ],
   "source": [
    "pip install https://github.com/pandas-profiling/pandas-profiling/archive/master.zip"
   ]
  },
  {
   "cell_type": "code",
   "execution_count": 10,
   "id": "710b8a85",
   "metadata": {},
   "outputs": [
    {
     "data": {
      "application/vnd.jupyter.widget-view+json": {
       "model_id": "0cc554497bcc46799cf6262eb9593f70",
       "version_major": 2,
       "version_minor": 0
      },
      "text/plain": [
       "Summarize dataset:   0%|          | 0/5 [00:00<?, ?it/s]"
      ]
     },
     "metadata": {},
     "output_type": "display_data"
    },
    {
     "data": {
      "application/vnd.jupyter.widget-view+json": {
       "model_id": "c070e20429674f8aada7c440ce6c0206",
       "version_major": 2,
       "version_minor": 0
      },
      "text/plain": [
       "Generate report structure:   0%|          | 0/1 [00:00<?, ?it/s]"
      ]
     },
     "metadata": {},
     "output_type": "display_data"
    },
    {
     "data": {
      "application/vnd.jupyter.widget-view+json": {
       "model_id": "f245f0a9dc04442681c75815675ebe7f",
       "version_major": 2,
       "version_minor": 0
      },
      "text/plain": [
       "Render HTML:   0%|          | 0/1 [00:00<?, ?it/s]"
      ]
     },
     "metadata": {},
     "output_type": "display_data"
    },
    {
     "data": {
      "application/vnd.jupyter.widget-view+json": {
       "model_id": "777789c6a6fb4fc6bfa5a960726490e1",
       "version_major": 2,
       "version_minor": 0
      },
      "text/plain": [
       "Export report to file:   0%|          | 0/1 [00:00<?, ?it/s]"
      ]
     },
     "metadata": {},
     "output_type": "display_data"
    }
   ],
   "source": [
    "from pandas_profiling import ProfileReport\n",
    "prof = ProfileReport(df)\n",
    "prof.to_file(output_file='output.html')"
   ]
  },
  {
   "cell_type": "code",
   "execution_count": null,
   "id": "bc5a3350",
   "metadata": {},
   "outputs": [],
   "source": []
  }
 ],
 "metadata": {
  "kernelspec": {
   "display_name": "Python 3",
   "language": "python",
   "name": "python3"
  },
  "language_info": {
   "codemirror_mode": {
    "name": "ipython",
    "version": 3
   },
   "file_extension": ".py",
   "mimetype": "text/x-python",
   "name": "python",
   "nbconvert_exporter": "python",
   "pygments_lexer": "ipython3",
   "version": "3.8.8"
  }
 },
 "nbformat": 4,
 "nbformat_minor": 5
}
