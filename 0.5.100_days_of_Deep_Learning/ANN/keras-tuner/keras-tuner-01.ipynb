{
 "cells": [
  {
   "cell_type": "code",
   "execution_count": 1,
   "id": "a8c2db26",
   "metadata": {},
   "outputs": [],
   "source": [
    "import numpy as np\n",
    "import pandas as pd"
   ]
  },
  {
   "cell_type": "code",
   "execution_count": 2,
   "id": "4bfbbb77",
   "metadata": {},
   "outputs": [],
   "source": [
    "data = pd.read_csv(\"diabetes.csv\")"
   ]
  },
  {
   "cell_type": "code",
   "execution_count": 3,
   "id": "e572e1c8",
   "metadata": {},
   "outputs": [
    {
     "data": {
      "text/html": [
       "<div>\n",
       "<style scoped>\n",
       "    .dataframe tbody tr th:only-of-type {\n",
       "        vertical-align: middle;\n",
       "    }\n",
       "\n",
       "    .dataframe tbody tr th {\n",
       "        vertical-align: top;\n",
       "    }\n",
       "\n",
       "    .dataframe thead th {\n",
       "        text-align: right;\n",
       "    }\n",
       "</style>\n",
       "<table border=\"1\" class=\"dataframe\">\n",
       "  <thead>\n",
       "    <tr style=\"text-align: right;\">\n",
       "      <th></th>\n",
       "      <th>Pregnancies</th>\n",
       "      <th>Glucose</th>\n",
       "      <th>BloodPressure</th>\n",
       "      <th>SkinThickness</th>\n",
       "      <th>Insulin</th>\n",
       "      <th>BMI</th>\n",
       "      <th>DiabetesPedigreeFunction</th>\n",
       "      <th>Age</th>\n",
       "      <th>Outcome</th>\n",
       "    </tr>\n",
       "  </thead>\n",
       "  <tbody>\n",
       "    <tr>\n",
       "      <th>0</th>\n",
       "      <td>6</td>\n",
       "      <td>148</td>\n",
       "      <td>72</td>\n",
       "      <td>35</td>\n",
       "      <td>0</td>\n",
       "      <td>33.6</td>\n",
       "      <td>0.627</td>\n",
       "      <td>50</td>\n",
       "      <td>1</td>\n",
       "    </tr>\n",
       "    <tr>\n",
       "      <th>1</th>\n",
       "      <td>1</td>\n",
       "      <td>85</td>\n",
       "      <td>66</td>\n",
       "      <td>29</td>\n",
       "      <td>0</td>\n",
       "      <td>26.6</td>\n",
       "      <td>0.351</td>\n",
       "      <td>31</td>\n",
       "      <td>0</td>\n",
       "    </tr>\n",
       "    <tr>\n",
       "      <th>2</th>\n",
       "      <td>8</td>\n",
       "      <td>183</td>\n",
       "      <td>64</td>\n",
       "      <td>0</td>\n",
       "      <td>0</td>\n",
       "      <td>23.3</td>\n",
       "      <td>0.672</td>\n",
       "      <td>32</td>\n",
       "      <td>1</td>\n",
       "    </tr>\n",
       "    <tr>\n",
       "      <th>3</th>\n",
       "      <td>1</td>\n",
       "      <td>89</td>\n",
       "      <td>66</td>\n",
       "      <td>23</td>\n",
       "      <td>94</td>\n",
       "      <td>28.1</td>\n",
       "      <td>0.167</td>\n",
       "      <td>21</td>\n",
       "      <td>0</td>\n",
       "    </tr>\n",
       "    <tr>\n",
       "      <th>4</th>\n",
       "      <td>0</td>\n",
       "      <td>137</td>\n",
       "      <td>40</td>\n",
       "      <td>35</td>\n",
       "      <td>168</td>\n",
       "      <td>43.1</td>\n",
       "      <td>2.288</td>\n",
       "      <td>33</td>\n",
       "      <td>1</td>\n",
       "    </tr>\n",
       "  </tbody>\n",
       "</table>\n",
       "</div>"
      ],
      "text/plain": [
       "   Pregnancies  Glucose  BloodPressure  SkinThickness  Insulin   BMI  \\\n",
       "0            6      148             72             35        0  33.6   \n",
       "1            1       85             66             29        0  26.6   \n",
       "2            8      183             64              0        0  23.3   \n",
       "3            1       89             66             23       94  28.1   \n",
       "4            0      137             40             35      168  43.1   \n",
       "\n",
       "   DiabetesPedigreeFunction  Age  Outcome  \n",
       "0                     0.627   50        1  \n",
       "1                     0.351   31        0  \n",
       "2                     0.672   32        1  \n",
       "3                     0.167   21        0  \n",
       "4                     2.288   33        1  "
      ]
     },
     "execution_count": 3,
     "metadata": {},
     "output_type": "execute_result"
    }
   ],
   "source": [
    "data.head()"
   ]
  },
  {
   "cell_type": "code",
   "execution_count": 4,
   "id": "c11bc427",
   "metadata": {},
   "outputs": [
    {
     "data": {
      "text/plain": [
       "Pregnancies                 0\n",
       "Glucose                     0\n",
       "BloodPressure               0\n",
       "SkinThickness               0\n",
       "Insulin                     0\n",
       "BMI                         0\n",
       "DiabetesPedigreeFunction    0\n",
       "Age                         0\n",
       "Outcome                     0\n",
       "dtype: int64"
      ]
     },
     "execution_count": 4,
     "metadata": {},
     "output_type": "execute_result"
    }
   ],
   "source": [
    "data.isnull().sum()"
   ]
  },
  {
   "cell_type": "code",
   "execution_count": 5,
   "id": "f05dec7a",
   "metadata": {},
   "outputs": [
    {
     "data": {
      "text/plain": [
       "Pregnancies                 0.221898\n",
       "Glucose                     0.466581\n",
       "BloodPressure               0.065068\n",
       "SkinThickness               0.074752\n",
       "Insulin                     0.130548\n",
       "BMI                         0.292695\n",
       "DiabetesPedigreeFunction    0.173844\n",
       "Age                         0.238356\n",
       "Outcome                     1.000000\n",
       "Name: Outcome, dtype: float64"
      ]
     },
     "execution_count": 5,
     "metadata": {},
     "output_type": "execute_result"
    }
   ],
   "source": [
    "data.corr()[\"Outcome\"]"
   ]
  },
  {
   "cell_type": "code",
   "execution_count": 6,
   "id": "0649b30d",
   "metadata": {},
   "outputs": [
    {
     "data": {
      "text/plain": [
       "0    0.651042\n",
       "1    0.348958\n",
       "Name: Outcome, dtype: float64"
      ]
     },
     "execution_count": 6,
     "metadata": {},
     "output_type": "execute_result"
    }
   ],
   "source": [
    "data[\"Outcome\"].value_counts()/data.shape[0]"
   ]
  },
  {
   "cell_type": "code",
   "execution_count": 7,
   "id": "546525d4",
   "metadata": {},
   "outputs": [
    {
     "data": {
      "text/plain": [
       "(768, 9)"
      ]
     },
     "execution_count": 7,
     "metadata": {},
     "output_type": "execute_result"
    }
   ],
   "source": [
    "data.shape"
   ]
  },
  {
   "cell_type": "code",
   "execution_count": 8,
   "id": "42f29aab",
   "metadata": {},
   "outputs": [],
   "source": [
    "X = data.drop(labels=[\"Outcome\"],axis=1)\n",
    "y = data[\"Outcome\"].values"
   ]
  },
  {
   "cell_type": "code",
   "execution_count": 9,
   "id": "805ac61e",
   "metadata": {},
   "outputs": [],
   "source": [
    "from sklearn.preprocessing import StandardScaler\n",
    "scaler = StandardScaler()"
   ]
  },
  {
   "cell_type": "code",
   "execution_count": 10,
   "id": "2600a45c",
   "metadata": {},
   "outputs": [],
   "source": [
    "from sklearn.model_selection import train_test_split"
   ]
  },
  {
   "cell_type": "code",
   "execution_count": 11,
   "id": "f2bafab3",
   "metadata": {},
   "outputs": [],
   "source": [
    "X_train,X_test,y_train,y_test = train_test_split(X,y,test_size=0.2,\n",
    "                                                 random_state=42)"
   ]
  },
  {
   "cell_type": "code",
   "execution_count": 12,
   "id": "88908e97",
   "metadata": {},
   "outputs": [],
   "source": [
    "X_train = scaler.fit_transform(X_train)\n",
    "X_test = scaler.transform(X_test)"
   ]
  },
  {
   "cell_type": "code",
   "execution_count": 13,
   "id": "84a64291",
   "metadata": {
    "scrolled": true
   },
   "outputs": [],
   "source": [
    "import tensorflow\n",
    "from tensorflow import keras\n",
    "from keras import Sequential,Input\n",
    "from keras.layers import Dense"
   ]
  },
  {
   "cell_type": "code",
   "execution_count": 27,
   "id": "f5a9ecd7",
   "metadata": {},
   "outputs": [],
   "source": [
    "# build model\n",
    "model = Sequential()\n",
    "\n",
    "model.add(Input(shape=(8,)))\n",
    "model.add(Dense(32,activation=\"relu\"))\n",
    "model.add(Dense(1,activation=\"sigmoid\"))\n",
    "\n",
    "model.compile(optimizer=\"adam\",loss=\"binary_crossentropy\",\n",
    "              metrics=[\"accuracy\"])"
   ]
  },
  {
   "cell_type": "code",
   "execution_count": 28,
   "id": "88cd402c",
   "metadata": {
    "scrolled": false
   },
   "outputs": [
    {
     "name": "stdout",
     "output_type": "stream",
     "text": [
      "Epoch 1/100\n",
      "20/20 [==============================] - 1s 9ms/step - loss: 0.7188 - accuracy: 0.5961 - val_loss: 0.6906 - val_accuracy: 0.6364\n",
      "Epoch 2/100\n",
      "20/20 [==============================] - 0s 3ms/step - loss: 0.6645 - accuracy: 0.6336 - val_loss: 0.6507 - val_accuracy: 0.6818\n",
      "Epoch 3/100\n",
      "20/20 [==============================] - 0s 3ms/step - loss: 0.6232 - accuracy: 0.6645 - val_loss: 0.6202 - val_accuracy: 0.7013\n",
      "Epoch 4/100\n",
      "20/20 [==============================] - 0s 3ms/step - loss: 0.5908 - accuracy: 0.7003 - val_loss: 0.5943 - val_accuracy: 0.7273\n",
      "Epoch 5/100\n",
      "20/20 [==============================] - 0s 3ms/step - loss: 0.5651 - accuracy: 0.7166 - val_loss: 0.5784 - val_accuracy: 0.7208\n",
      "Epoch 6/100\n",
      "20/20 [==============================] - 0s 3ms/step - loss: 0.5456 - accuracy: 0.7215 - val_loss: 0.5628 - val_accuracy: 0.7143\n",
      "Epoch 7/100\n",
      "20/20 [==============================] - 0s 3ms/step - loss: 0.5284 - accuracy: 0.7378 - val_loss: 0.5496 - val_accuracy: 0.7143\n",
      "Epoch 8/100\n",
      "20/20 [==============================] - 0s 3ms/step - loss: 0.5151 - accuracy: 0.7524 - val_loss: 0.5386 - val_accuracy: 0.7338\n",
      "Epoch 9/100\n",
      "20/20 [==============================] - 0s 3ms/step - loss: 0.5029 - accuracy: 0.7557 - val_loss: 0.5323 - val_accuracy: 0.7403\n",
      "Epoch 10/100\n",
      "20/20 [==============================] - 0s 3ms/step - loss: 0.4940 - accuracy: 0.7590 - val_loss: 0.5258 - val_accuracy: 0.7468\n",
      "Epoch 11/100\n",
      "20/20 [==============================] - 0s 3ms/step - loss: 0.4860 - accuracy: 0.7671 - val_loss: 0.5212 - val_accuracy: 0.7597\n",
      "Epoch 12/100\n",
      "20/20 [==============================] - 0s 4ms/step - loss: 0.4796 - accuracy: 0.7720 - val_loss: 0.5181 - val_accuracy: 0.7597\n",
      "Epoch 13/100\n",
      "20/20 [==============================] - 0s 3ms/step - loss: 0.4745 - accuracy: 0.7687 - val_loss: 0.5148 - val_accuracy: 0.7532\n",
      "Epoch 14/100\n",
      "20/20 [==============================] - 0s 3ms/step - loss: 0.4699 - accuracy: 0.7720 - val_loss: 0.5143 - val_accuracy: 0.7532\n",
      "Epoch 15/100\n",
      "20/20 [==============================] - 0s 3ms/step - loss: 0.4662 - accuracy: 0.7752 - val_loss: 0.5130 - val_accuracy: 0.7597\n",
      "Epoch 16/100\n",
      "20/20 [==============================] - 0s 4ms/step - loss: 0.4626 - accuracy: 0.7769 - val_loss: 0.5116 - val_accuracy: 0.7532\n",
      "Epoch 17/100\n",
      "20/20 [==============================] - 0s 3ms/step - loss: 0.4607 - accuracy: 0.7785 - val_loss: 0.5108 - val_accuracy: 0.7532\n",
      "Epoch 18/100\n",
      "20/20 [==============================] - 0s 3ms/step - loss: 0.4576 - accuracy: 0.7769 - val_loss: 0.5100 - val_accuracy: 0.7532\n",
      "Epoch 19/100\n",
      "20/20 [==============================] - 0s 4ms/step - loss: 0.4557 - accuracy: 0.7752 - val_loss: 0.5096 - val_accuracy: 0.7532\n",
      "Epoch 20/100\n",
      "20/20 [==============================] - 0s 3ms/step - loss: 0.4535 - accuracy: 0.7785 - val_loss: 0.5070 - val_accuracy: 0.7468\n",
      "Epoch 21/100\n",
      "20/20 [==============================] - 0s 3ms/step - loss: 0.4523 - accuracy: 0.7818 - val_loss: 0.5096 - val_accuracy: 0.7532\n",
      "Epoch 22/100\n",
      "20/20 [==============================] - 0s 3ms/step - loss: 0.4505 - accuracy: 0.7850 - val_loss: 0.5111 - val_accuracy: 0.7468\n",
      "Epoch 23/100\n",
      "20/20 [==============================] - 0s 3ms/step - loss: 0.4486 - accuracy: 0.7818 - val_loss: 0.5118 - val_accuracy: 0.7468\n",
      "Epoch 24/100\n",
      "20/20 [==============================] - 0s 4ms/step - loss: 0.4472 - accuracy: 0.7818 - val_loss: 0.5128 - val_accuracy: 0.7468\n",
      "Epoch 25/100\n",
      "20/20 [==============================] - 0s 3ms/step - loss: 0.4459 - accuracy: 0.7834 - val_loss: 0.5130 - val_accuracy: 0.7468\n",
      "Epoch 26/100\n",
      "20/20 [==============================] - 0s 3ms/step - loss: 0.4448 - accuracy: 0.7834 - val_loss: 0.5157 - val_accuracy: 0.7468\n",
      "Epoch 27/100\n",
      "20/20 [==============================] - 0s 4ms/step - loss: 0.4434 - accuracy: 0.7834 - val_loss: 0.5156 - val_accuracy: 0.7532\n",
      "Epoch 28/100\n",
      "20/20 [==============================] - 0s 3ms/step - loss: 0.4427 - accuracy: 0.7818 - val_loss: 0.5154 - val_accuracy: 0.7532\n",
      "Epoch 29/100\n",
      "20/20 [==============================] - 0s 3ms/step - loss: 0.4421 - accuracy: 0.7834 - val_loss: 0.5148 - val_accuracy: 0.7532\n",
      "Epoch 30/100\n",
      "20/20 [==============================] - 0s 3ms/step - loss: 0.4408 - accuracy: 0.7801 - val_loss: 0.5157 - val_accuracy: 0.7468\n",
      "Epoch 31/100\n",
      "20/20 [==============================] - 0s 4ms/step - loss: 0.4396 - accuracy: 0.7834 - val_loss: 0.5161 - val_accuracy: 0.7532\n",
      "Epoch 32/100\n",
      "20/20 [==============================] - 0s 3ms/step - loss: 0.4392 - accuracy: 0.7834 - val_loss: 0.5166 - val_accuracy: 0.7532\n",
      "Epoch 33/100\n",
      "20/20 [==============================] - 0s 3ms/step - loss: 0.4379 - accuracy: 0.7850 - val_loss: 0.5174 - val_accuracy: 0.7532\n",
      "Epoch 34/100\n",
      "20/20 [==============================] - 0s 3ms/step - loss: 0.4373 - accuracy: 0.7883 - val_loss: 0.5153 - val_accuracy: 0.7532\n",
      "Epoch 35/100\n",
      "20/20 [==============================] - 0s 3ms/step - loss: 0.4366 - accuracy: 0.7834 - val_loss: 0.5178 - val_accuracy: 0.7532\n",
      "Epoch 36/100\n",
      "20/20 [==============================] - 0s 3ms/step - loss: 0.4354 - accuracy: 0.7818 - val_loss: 0.5180 - val_accuracy: 0.7532\n",
      "Epoch 37/100\n",
      "20/20 [==============================] - 0s 4ms/step - loss: 0.4346 - accuracy: 0.7850 - val_loss: 0.5195 - val_accuracy: 0.7532\n",
      "Epoch 38/100\n",
      "20/20 [==============================] - 0s 3ms/step - loss: 0.4338 - accuracy: 0.7866 - val_loss: 0.5181 - val_accuracy: 0.7532\n",
      "Epoch 39/100\n",
      "20/20 [==============================] - 0s 3ms/step - loss: 0.4328 - accuracy: 0.7866 - val_loss: 0.5187 - val_accuracy: 0.7532\n",
      "Epoch 40/100\n",
      "20/20 [==============================] - 0s 3ms/step - loss: 0.4325 - accuracy: 0.7883 - val_loss: 0.5200 - val_accuracy: 0.7532\n",
      "Epoch 41/100\n",
      "20/20 [==============================] - 0s 3ms/step - loss: 0.4314 - accuracy: 0.7866 - val_loss: 0.5194 - val_accuracy: 0.7532\n",
      "Epoch 42/100\n",
      "20/20 [==============================] - 0s 4ms/step - loss: 0.4309 - accuracy: 0.7866 - val_loss: 0.5194 - val_accuracy: 0.7532\n",
      "Epoch 43/100\n",
      "20/20 [==============================] - 0s 3ms/step - loss: 0.4304 - accuracy: 0.7818 - val_loss: 0.5225 - val_accuracy: 0.7532\n",
      "Epoch 44/100\n",
      "20/20 [==============================] - 0s 3ms/step - loss: 0.4312 - accuracy: 0.7850 - val_loss: 0.5191 - val_accuracy: 0.7532\n",
      "Epoch 45/100\n",
      "20/20 [==============================] - 0s 3ms/step - loss: 0.4290 - accuracy: 0.7850 - val_loss: 0.5202 - val_accuracy: 0.7468\n",
      "Epoch 46/100\n",
      "20/20 [==============================] - 0s 4ms/step - loss: 0.4286 - accuracy: 0.7866 - val_loss: 0.5217 - val_accuracy: 0.7468\n",
      "Epoch 47/100\n",
      "20/20 [==============================] - 0s 3ms/step - loss: 0.4285 - accuracy: 0.7818 - val_loss: 0.5183 - val_accuracy: 0.7532\n",
      "Epoch 48/100\n",
      "20/20 [==============================] - 0s 3ms/step - loss: 0.4274 - accuracy: 0.7834 - val_loss: 0.5201 - val_accuracy: 0.7532\n",
      "Epoch 49/100\n",
      "20/20 [==============================] - 0s 3ms/step - loss: 0.4272 - accuracy: 0.7801 - val_loss: 0.5198 - val_accuracy: 0.7532\n",
      "Epoch 50/100\n",
      "20/20 [==============================] - 0s 3ms/step - loss: 0.4267 - accuracy: 0.7801 - val_loss: 0.5211 - val_accuracy: 0.7468\n",
      "Epoch 51/100\n",
      "20/20 [==============================] - 0s 3ms/step - loss: 0.4256 - accuracy: 0.7850 - val_loss: 0.5205 - val_accuracy: 0.7468\n",
      "Epoch 52/100\n",
      "20/20 [==============================] - 0s 3ms/step - loss: 0.4254 - accuracy: 0.7899 - val_loss: 0.5206 - val_accuracy: 0.7468\n",
      "Epoch 53/100\n",
      "20/20 [==============================] - 0s 3ms/step - loss: 0.4245 - accuracy: 0.7915 - val_loss: 0.5202 - val_accuracy: 0.7468\n",
      "Epoch 54/100\n",
      "20/20 [==============================] - 0s 4ms/step - loss: 0.4243 - accuracy: 0.7866 - val_loss: 0.5202 - val_accuracy: 0.7532\n",
      "Epoch 55/100\n",
      "20/20 [==============================] - 0s 3ms/step - loss: 0.4243 - accuracy: 0.7899 - val_loss: 0.5223 - val_accuracy: 0.7468\n",
      "Epoch 56/100\n",
      "20/20 [==============================] - 0s 3ms/step - loss: 0.4235 - accuracy: 0.7866 - val_loss: 0.5235 - val_accuracy: 0.7468\n",
      "Epoch 57/100\n",
      "20/20 [==============================] - 0s 3ms/step - loss: 0.4227 - accuracy: 0.7899 - val_loss: 0.5245 - val_accuracy: 0.7468\n",
      "Epoch 58/100\n",
      "20/20 [==============================] - 0s 3ms/step - loss: 0.4225 - accuracy: 0.7866 - val_loss: 0.5239 - val_accuracy: 0.7468\n"
     ]
    },
    {
     "name": "stdout",
     "output_type": "stream",
     "text": [
      "Epoch 59/100\n",
      "20/20 [==============================] - 0s 3ms/step - loss: 0.4220 - accuracy: 0.7866 - val_loss: 0.5256 - val_accuracy: 0.7468\n",
      "Epoch 60/100\n",
      "20/20 [==============================] - 0s 4ms/step - loss: 0.4212 - accuracy: 0.7899 - val_loss: 0.5245 - val_accuracy: 0.7532\n",
      "Epoch 61/100\n",
      "20/20 [==============================] - 0s 3ms/step - loss: 0.4209 - accuracy: 0.7915 - val_loss: 0.5251 - val_accuracy: 0.7532\n",
      "Epoch 62/100\n",
      "20/20 [==============================] - 0s 3ms/step - loss: 0.4209 - accuracy: 0.7883 - val_loss: 0.5255 - val_accuracy: 0.7532\n",
      "Epoch 63/100\n",
      "20/20 [==============================] - 0s 3ms/step - loss: 0.4200 - accuracy: 0.7866 - val_loss: 0.5240 - val_accuracy: 0.7532\n",
      "Epoch 64/100\n",
      "20/20 [==============================] - 0s 3ms/step - loss: 0.4199 - accuracy: 0.7915 - val_loss: 0.5260 - val_accuracy: 0.7468\n",
      "Epoch 65/100\n",
      "20/20 [==============================] - 0s 3ms/step - loss: 0.4192 - accuracy: 0.7948 - val_loss: 0.5242 - val_accuracy: 0.7468\n",
      "Epoch 66/100\n",
      "20/20 [==============================] - 0s 3ms/step - loss: 0.4183 - accuracy: 0.7932 - val_loss: 0.5247 - val_accuracy: 0.7532\n",
      "Epoch 67/100\n",
      "20/20 [==============================] - 0s 3ms/step - loss: 0.4185 - accuracy: 0.7899 - val_loss: 0.5257 - val_accuracy: 0.7532\n",
      "Epoch 68/100\n",
      "20/20 [==============================] - 0s 3ms/step - loss: 0.4176 - accuracy: 0.7948 - val_loss: 0.5246 - val_accuracy: 0.7468\n",
      "Epoch 69/100\n",
      "20/20 [==============================] - 0s 3ms/step - loss: 0.4177 - accuracy: 0.7932 - val_loss: 0.5245 - val_accuracy: 0.7468\n",
      "Epoch 70/100\n",
      "20/20 [==============================] - 0s 3ms/step - loss: 0.4168 - accuracy: 0.7915 - val_loss: 0.5244 - val_accuracy: 0.7468\n",
      "Epoch 71/100\n",
      "20/20 [==============================] - 0s 3ms/step - loss: 0.4168 - accuracy: 0.7883 - val_loss: 0.5233 - val_accuracy: 0.7468\n",
      "Epoch 72/100\n",
      "20/20 [==============================] - 0s 4ms/step - loss: 0.4167 - accuracy: 0.7932 - val_loss: 0.5242 - val_accuracy: 0.7468\n",
      "Epoch 73/100\n",
      "20/20 [==============================] - 0s 3ms/step - loss: 0.4157 - accuracy: 0.7899 - val_loss: 0.5258 - val_accuracy: 0.7468\n",
      "Epoch 74/100\n",
      "20/20 [==============================] - 0s 3ms/step - loss: 0.4158 - accuracy: 0.7883 - val_loss: 0.5248 - val_accuracy: 0.7468\n",
      "Epoch 75/100\n",
      "20/20 [==============================] - 0s 3ms/step - loss: 0.4154 - accuracy: 0.7899 - val_loss: 0.5256 - val_accuracy: 0.7468\n",
      "Epoch 76/100\n",
      "20/20 [==============================] - 0s 3ms/step - loss: 0.4143 - accuracy: 0.7883 - val_loss: 0.5258 - val_accuracy: 0.7468\n",
      "Epoch 77/100\n",
      "20/20 [==============================] - 0s 4ms/step - loss: 0.4139 - accuracy: 0.7932 - val_loss: 0.5277 - val_accuracy: 0.7468\n",
      "Epoch 78/100\n",
      "20/20 [==============================] - 0s 3ms/step - loss: 0.4140 - accuracy: 0.7915 - val_loss: 0.5286 - val_accuracy: 0.7468\n",
      "Epoch 79/100\n",
      "20/20 [==============================] - 0s 3ms/step - loss: 0.4138 - accuracy: 0.7948 - val_loss: 0.5271 - val_accuracy: 0.7468\n",
      "Epoch 80/100\n",
      "20/20 [==============================] - 0s 4ms/step - loss: 0.4129 - accuracy: 0.7980 - val_loss: 0.5243 - val_accuracy: 0.7468\n",
      "Epoch 81/100\n",
      "20/20 [==============================] - 0s 3ms/step - loss: 0.4136 - accuracy: 0.7948 - val_loss: 0.5269 - val_accuracy: 0.7532\n",
      "Epoch 82/100\n",
      "20/20 [==============================] - 0s 3ms/step - loss: 0.4122 - accuracy: 0.7948 - val_loss: 0.5266 - val_accuracy: 0.7532\n",
      "Epoch 83/100\n",
      "20/20 [==============================] - 0s 3ms/step - loss: 0.4117 - accuracy: 0.7948 - val_loss: 0.5249 - val_accuracy: 0.7532\n",
      "Epoch 84/100\n",
      "20/20 [==============================] - 0s 4ms/step - loss: 0.4121 - accuracy: 0.7964 - val_loss: 0.5260 - val_accuracy: 0.7532\n",
      "Epoch 85/100\n",
      "20/20 [==============================] - 0s 3ms/step - loss: 0.4109 - accuracy: 0.7980 - val_loss: 0.5262 - val_accuracy: 0.7532\n",
      "Epoch 86/100\n",
      "20/20 [==============================] - 0s 3ms/step - loss: 0.4109 - accuracy: 0.7948 - val_loss: 0.5275 - val_accuracy: 0.7532\n",
      "Epoch 87/100\n",
      "20/20 [==============================] - 0s 3ms/step - loss: 0.4104 - accuracy: 0.7932 - val_loss: 0.5286 - val_accuracy: 0.7468\n",
      "Epoch 88/100\n",
      "20/20 [==============================] - 0s 3ms/step - loss: 0.4098 - accuracy: 0.7964 - val_loss: 0.5265 - val_accuracy: 0.7532\n",
      "Epoch 89/100\n",
      "20/20 [==============================] - 0s 3ms/step - loss: 0.4096 - accuracy: 0.7932 - val_loss: 0.5297 - val_accuracy: 0.7468\n",
      "Epoch 90/100\n",
      "20/20 [==============================] - 0s 3ms/step - loss: 0.4092 - accuracy: 0.7948 - val_loss: 0.5299 - val_accuracy: 0.7468\n",
      "Epoch 91/100\n",
      "20/20 [==============================] - 0s 3ms/step - loss: 0.4086 - accuracy: 0.7948 - val_loss: 0.5317 - val_accuracy: 0.7468\n",
      "Epoch 92/100\n",
      "20/20 [==============================] - 0s 4ms/step - loss: 0.4081 - accuracy: 0.7964 - val_loss: 0.5316 - val_accuracy: 0.7468\n",
      "Epoch 93/100\n",
      "20/20 [==============================] - 0s 3ms/step - loss: 0.4082 - accuracy: 0.7964 - val_loss: 0.5319 - val_accuracy: 0.7468\n",
      "Epoch 94/100\n",
      "20/20 [==============================] - 0s 3ms/step - loss: 0.4078 - accuracy: 0.7980 - val_loss: 0.5320 - val_accuracy: 0.7532\n",
      "Epoch 95/100\n",
      "20/20 [==============================] - 0s 3ms/step - loss: 0.4072 - accuracy: 0.7980 - val_loss: 0.5328 - val_accuracy: 0.7532\n",
      "Epoch 96/100\n",
      "20/20 [==============================] - 0s 3ms/step - loss: 0.4076 - accuracy: 0.8013 - val_loss: 0.5338 - val_accuracy: 0.7532\n",
      "Epoch 97/100\n",
      "20/20 [==============================] - 0s 3ms/step - loss: 0.4069 - accuracy: 0.8013 - val_loss: 0.5329 - val_accuracy: 0.7532\n",
      "Epoch 98/100\n",
      "20/20 [==============================] - 0s 3ms/step - loss: 0.4063 - accuracy: 0.7980 - val_loss: 0.5336 - val_accuracy: 0.7532\n",
      "Epoch 99/100\n",
      "20/20 [==============================] - 0s 3ms/step - loss: 0.4061 - accuracy: 0.7997 - val_loss: 0.5331 - val_accuracy: 0.7532\n",
      "Epoch 100/100\n",
      "20/20 [==============================] - 0s 3ms/step - loss: 0.4058 - accuracy: 0.7997 - val_loss: 0.5317 - val_accuracy: 0.7468\n"
     ]
    },
    {
     "data": {
      "text/plain": [
       "<keras.callbacks.History at 0x22e7fce5fa0>"
      ]
     },
     "execution_count": 28,
     "metadata": {},
     "output_type": "execute_result"
    }
   ],
   "source": [
    "model.fit(X_train,y_train,batch_size=32,epochs=100,\n",
    "          validation_data=(X_test,y_test))"
   ]
  },
  {
   "cell_type": "code",
   "execution_count": 29,
   "id": "dc27c7f2",
   "metadata": {},
   "outputs": [
    {
     "name": "stdout",
     "output_type": "stream",
     "text": [
      "Model: \"sequential_1\"\n",
      "_________________________________________________________________\n",
      " Layer (type)                Output Shape              Param #   \n",
      "=================================================================\n",
      " dense_7 (Dense)             (None, 32)                288       \n",
      "                                                                 \n",
      " dense_8 (Dense)             (None, 1)                 33        \n",
      "                                                                 \n",
      "=================================================================\n",
      "Total params: 321\n",
      "Trainable params: 321\n",
      "Non-trainable params: 0\n",
      "_________________________________________________________________\n"
     ]
    }
   ],
   "source": [
    "model.summary()"
   ]
  },
  {
   "cell_type": "raw",
   "id": "02ae4b02",
   "metadata": {},
   "source": [
    "pip install -U keras-tuner"
   ]
  },
  {
   "cell_type": "markdown",
   "id": "dce24788",
   "metadata": {},
   "source": [
    "## Keras_tuner"
   ]
  },
  {
   "cell_type": "code",
   "execution_count": 33,
   "id": "6fba1f22",
   "metadata": {},
   "outputs": [],
   "source": [
    "import keras_tuner as kt"
   ]
  },
  {
   "cell_type": "code",
   "execution_count": 40,
   "id": "237c940a",
   "metadata": {},
   "outputs": [],
   "source": [
    "from keras.layers import Dropout"
   ]
  },
  {
   "cell_type": "code",
   "execution_count": 41,
   "id": "eacf326e",
   "metadata": {},
   "outputs": [],
   "source": [
    "# hp -> hyper-parameter object\n",
    "def build_model(hp):\n",
    "    model = Sequential()\n",
    "    \n",
    "    model.add(Input(shape=(8,)))\n",
    "    num_layers = hp.Int('num_layers', min_value=1, max_value=10)\n",
    "    for i in range(num_layers):\n",
    "        units = hp.Int(\"units\"+str(i), min_value=8, max_value=168, step=8)\n",
    "        activation = hp.Choice(\"activation\"+str(i), values=[\"relu\",\"tanh\",\\\n",
    "                                                           \"sigmoid\"])\n",
    "        dropout = hp.Choice(\"dropout\"+str(i),\\\n",
    "                            values=[0.1,0.2,0.3,0.4,0.5,0.6,0.7,0.8,0.9])\n",
    "        \n",
    "        model.add(Dense(units,activation=activation))\n",
    "        model.add(Dropout(dropout))\n",
    "    model.add(Dense(1,activation=\"sigmoid\"))\n",
    "    \n",
    "    optimizer = hp.Choice(\"optimizer\", values=[\"sgd\",\"rmsprop\",\"adam\",\n",
    "                                              \"adadelta\",\"nadam\"])\n",
    "    model.compile(optimizer=optimizer,loss=\"binary_crossentropy\",\\\n",
    "                 metrics=[\"accuracy\"])\n",
    "    \n",
    "    return model"
   ]
  },
  {
   "cell_type": "code",
   "execution_count": 46,
   "id": "016d5bfe",
   "metadata": {},
   "outputs": [],
   "source": [
    "tuner = kt.RandomSearch(hypermodel=build_model,objective=\"val_accuracy\",\n",
    "                       max_trials=20,directory=\"tuner_dir\",\n",
    "                       project_name=\"final_2\")"
   ]
  },
  {
   "cell_type": "code",
   "execution_count": 47,
   "id": "d47657e6",
   "metadata": {},
   "outputs": [
    {
     "name": "stdout",
     "output_type": "stream",
     "text": [
      "Trial 20 Complete [00h 00m 02s]\n",
      "val_accuracy: 0.6428571343421936\n",
      "\n",
      "Best val_accuracy So Far: 0.8051947951316833\n",
      "Total elapsed time: 00h 00m 48s\n",
      "INFO:tensorflow:Oracle triggered exit\n"
     ]
    }
   ],
   "source": [
    "tuner.search(X_train,y_train,epochs=10,validation_data=(X_test,y_test))"
   ]
  },
  {
   "cell_type": "code",
   "execution_count": 48,
   "id": "9b1378ac",
   "metadata": {},
   "outputs": [
    {
     "data": {
      "text/plain": [
       "{'num_layers': 7,\n",
       " 'units0': 104,\n",
       " 'activation0': 'tanh',\n",
       " 'dropout0': 0.6,\n",
       " 'optimizer': 'rmsprop',\n",
       " 'units1': 8,\n",
       " 'activation1': 'relu',\n",
       " 'dropout1': 0.1,\n",
       " 'units2': 8,\n",
       " 'activation2': 'relu',\n",
       " 'dropout2': 0.1,\n",
       " 'units3': 8,\n",
       " 'activation3': 'relu',\n",
       " 'dropout3': 0.1,\n",
       " 'units4': 8,\n",
       " 'activation4': 'relu',\n",
       " 'dropout4': 0.1,\n",
       " 'units5': 8,\n",
       " 'activation5': 'relu',\n",
       " 'dropout5': 0.1,\n",
       " 'units6': 8,\n",
       " 'activation6': 'relu',\n",
       " 'dropout6': 0.1}"
      ]
     },
     "execution_count": 48,
     "metadata": {},
     "output_type": "execute_result"
    }
   ],
   "source": [
    "tuner.get_best_hyperparameters()[0].values"
   ]
  },
  {
   "cell_type": "code",
   "execution_count": 49,
   "id": "f965edf5",
   "metadata": {},
   "outputs": [],
   "source": [
    "model = tuner.get_best_models(num_models=1)[0]"
   ]
  },
  {
   "cell_type": "code",
   "execution_count": 50,
   "id": "4f9eafa2",
   "metadata": {},
   "outputs": [
    {
     "name": "stdout",
     "output_type": "stream",
     "text": [
      "Model: \"sequential\"\n",
      "_________________________________________________________________\n",
      " Layer (type)                Output Shape              Param #   \n",
      "=================================================================\n",
      " dense (Dense)               (None, 104)               936       \n",
      "                                                                 \n",
      " dropout (Dropout)           (None, 104)               0         \n",
      "                                                                 \n",
      " dense_1 (Dense)             (None, 8)                 840       \n",
      "                                                                 \n",
      " dropout_1 (Dropout)         (None, 8)                 0         \n",
      "                                                                 \n",
      " dense_2 (Dense)             (None, 8)                 72        \n",
      "                                                                 \n",
      " dropout_2 (Dropout)         (None, 8)                 0         \n",
      "                                                                 \n",
      " dense_3 (Dense)             (None, 8)                 72        \n",
      "                                                                 \n",
      " dropout_3 (Dropout)         (None, 8)                 0         \n",
      "                                                                 \n",
      " dense_4 (Dense)             (None, 8)                 72        \n",
      "                                                                 \n",
      " dropout_4 (Dropout)         (None, 8)                 0         \n",
      "                                                                 \n",
      " dense_5 (Dense)             (None, 8)                 72        \n",
      "                                                                 \n",
      " dropout_5 (Dropout)         (None, 8)                 0         \n",
      "                                                                 \n",
      " dense_6 (Dense)             (None, 8)                 72        \n",
      "                                                                 \n",
      " dropout_6 (Dropout)         (None, 8)                 0         \n",
      "                                                                 \n",
      " dense_7 (Dense)             (None, 1)                 9         \n",
      "                                                                 \n",
      "=================================================================\n",
      "Total params: 2,145\n",
      "Trainable params: 2,145\n",
      "Non-trainable params: 0\n",
      "_________________________________________________________________\n"
     ]
    }
   ],
   "source": [
    "model.summary()"
   ]
  },
  {
   "cell_type": "code",
   "execution_count": 51,
   "id": "7ab767cb",
   "metadata": {},
   "outputs": [
    {
     "name": "stdout",
     "output_type": "stream",
     "text": [
      "Epoch 1/100\n",
      "20/20 [==============================] - 1s 11ms/step - loss: 0.5422 - accuracy: 0.7394 - val_loss: 0.5151 - val_accuracy: 0.7987\n",
      "Epoch 2/100\n",
      "20/20 [==============================] - 0s 4ms/step - loss: 0.5446 - accuracy: 0.7313 - val_loss: 0.5061 - val_accuracy: 0.7987\n",
      "Epoch 3/100\n",
      "20/20 [==============================] - 0s 3ms/step - loss: 0.5456 - accuracy: 0.7541 - val_loss: 0.5067 - val_accuracy: 0.7857\n",
      "Epoch 4/100\n",
      "20/20 [==============================] - 0s 4ms/step - loss: 0.5353 - accuracy: 0.7329 - val_loss: 0.5033 - val_accuracy: 0.7792\n",
      "Epoch 5/100\n",
      "20/20 [==============================] - 0s 3ms/step - loss: 0.5381 - accuracy: 0.7215 - val_loss: 0.5068 - val_accuracy: 0.7662\n",
      "Epoch 6/100\n",
      "20/20 [==============================] - 0s 4ms/step - loss: 0.5381 - accuracy: 0.7508 - val_loss: 0.5068 - val_accuracy: 0.7792\n",
      "Epoch 7/100\n",
      "20/20 [==============================] - 0s 3ms/step - loss: 0.5216 - accuracy: 0.7573 - val_loss: 0.5068 - val_accuracy: 0.7532\n",
      "Epoch 8/100\n",
      "20/20 [==============================] - 0s 4ms/step - loss: 0.5199 - accuracy: 0.7508 - val_loss: 0.5064 - val_accuracy: 0.7532\n",
      "Epoch 9/100\n",
      "20/20 [==============================] - 0s 3ms/step - loss: 0.5117 - accuracy: 0.7459 - val_loss: 0.5029 - val_accuracy: 0.7532\n",
      "Epoch 10/100\n",
      "20/20 [==============================] - 0s 3ms/step - loss: 0.5163 - accuracy: 0.7622 - val_loss: 0.5016 - val_accuracy: 0.7662\n",
      "Epoch 11/100\n",
      "20/20 [==============================] - 0s 4ms/step - loss: 0.5136 - accuracy: 0.7541 - val_loss: 0.4996 - val_accuracy: 0.7597\n",
      "Epoch 12/100\n",
      "20/20 [==============================] - 0s 4ms/step - loss: 0.5085 - accuracy: 0.7557 - val_loss: 0.4990 - val_accuracy: 0.7727\n",
      "Epoch 13/100\n",
      "20/20 [==============================] - 0s 4ms/step - loss: 0.5254 - accuracy: 0.7476 - val_loss: 0.5043 - val_accuracy: 0.7662\n",
      "Epoch 14/100\n",
      "20/20 [==============================] - 0s 4ms/step - loss: 0.5182 - accuracy: 0.7378 - val_loss: 0.5024 - val_accuracy: 0.7662\n",
      "Epoch 15/100\n",
      "20/20 [==============================] - 0s 4ms/step - loss: 0.5048 - accuracy: 0.7459 - val_loss: 0.5044 - val_accuracy: 0.7662\n",
      "Epoch 16/100\n",
      "20/20 [==============================] - 0s 3ms/step - loss: 0.5276 - accuracy: 0.7199 - val_loss: 0.5066 - val_accuracy: 0.7532\n",
      "Epoch 17/100\n",
      "20/20 [==============================] - 0s 4ms/step - loss: 0.5190 - accuracy: 0.7476 - val_loss: 0.5082 - val_accuracy: 0.7662\n",
      "Epoch 18/100\n",
      "20/20 [==============================] - 0s 4ms/step - loss: 0.5113 - accuracy: 0.7362 - val_loss: 0.5067 - val_accuracy: 0.7662\n",
      "Epoch 19/100\n",
      "20/20 [==============================] - 0s 4ms/step - loss: 0.5083 - accuracy: 0.7476 - val_loss: 0.5092 - val_accuracy: 0.7662\n",
      "Epoch 20/100\n",
      "20/20 [==============================] - 0s 4ms/step - loss: 0.4939 - accuracy: 0.7720 - val_loss: 0.5108 - val_accuracy: 0.7662\n",
      "Epoch 21/100\n",
      "20/20 [==============================] - 0s 4ms/step - loss: 0.4887 - accuracy: 0.7720 - val_loss: 0.5096 - val_accuracy: 0.7662\n",
      "Epoch 22/100\n",
      "20/20 [==============================] - 0s 4ms/step - loss: 0.4996 - accuracy: 0.7443 - val_loss: 0.5095 - val_accuracy: 0.7662\n",
      "Epoch 23/100\n",
      "20/20 [==============================] - 0s 4ms/step - loss: 0.4982 - accuracy: 0.7524 - val_loss: 0.5075 - val_accuracy: 0.7662\n",
      "Epoch 24/100\n",
      "20/20 [==============================] - 0s 4ms/step - loss: 0.5002 - accuracy: 0.7508 - val_loss: 0.5041 - val_accuracy: 0.7662\n",
      "Epoch 25/100\n",
      "20/20 [==============================] - 0s 5ms/step - loss: 0.5090 - accuracy: 0.7492 - val_loss: 0.5030 - val_accuracy: 0.7662\n",
      "Epoch 26/100\n",
      "20/20 [==============================] - 0s 4ms/step - loss: 0.4889 - accuracy: 0.7590 - val_loss: 0.5053 - val_accuracy: 0.7662\n",
      "Epoch 27/100\n",
      "20/20 [==============================] - 0s 4ms/step - loss: 0.4941 - accuracy: 0.7638 - val_loss: 0.5061 - val_accuracy: 0.7662\n",
      "Epoch 28/100\n",
      "20/20 [==============================] - 0s 4ms/step - loss: 0.4876 - accuracy: 0.7638 - val_loss: 0.5076 - val_accuracy: 0.7662\n",
      "Epoch 29/100\n",
      "20/20 [==============================] - 0s 4ms/step - loss: 0.4865 - accuracy: 0.7736 - val_loss: 0.5077 - val_accuracy: 0.7727\n",
      "Epoch 30/100\n",
      "20/20 [==============================] - 0s 5ms/step - loss: 0.4989 - accuracy: 0.7638 - val_loss: 0.5078 - val_accuracy: 0.7727\n",
      "Epoch 31/100\n",
      "20/20 [==============================] - 0s 4ms/step - loss: 0.4962 - accuracy: 0.7638 - val_loss: 0.5131 - val_accuracy: 0.7662\n",
      "Epoch 32/100\n",
      "20/20 [==============================] - 0s 4ms/step - loss: 0.4970 - accuracy: 0.7459 - val_loss: 0.5103 - val_accuracy: 0.7662\n",
      "Epoch 33/100\n",
      "20/20 [==============================] - 0s 4ms/step - loss: 0.4897 - accuracy: 0.7573 - val_loss: 0.5061 - val_accuracy: 0.7662\n",
      "Epoch 34/100\n",
      "20/20 [==============================] - 0s 4ms/step - loss: 0.5077 - accuracy: 0.7524 - val_loss: 0.5053 - val_accuracy: 0.7727\n",
      "Epoch 35/100\n",
      "20/20 [==============================] - 0s 4ms/step - loss: 0.5098 - accuracy: 0.7362 - val_loss: 0.5082 - val_accuracy: 0.7727\n",
      "Epoch 36/100\n",
      "20/20 [==============================] - 0s 5ms/step - loss: 0.4960 - accuracy: 0.7557 - val_loss: 0.5077 - val_accuracy: 0.7792\n",
      "Epoch 37/100\n",
      "20/20 [==============================] - 0s 5ms/step - loss: 0.4913 - accuracy: 0.7687 - val_loss: 0.5081 - val_accuracy: 0.7727\n",
      "Epoch 38/100\n",
      "20/20 [==============================] - 0s 4ms/step - loss: 0.5088 - accuracy: 0.7541 - val_loss: 0.5076 - val_accuracy: 0.7727\n",
      "Epoch 39/100\n",
      "20/20 [==============================] - 0s 4ms/step - loss: 0.4688 - accuracy: 0.7834 - val_loss: 0.5088 - val_accuracy: 0.7727\n",
      "Epoch 40/100\n",
      "20/20 [==============================] - 0s 4ms/step - loss: 0.4995 - accuracy: 0.7655 - val_loss: 0.5084 - val_accuracy: 0.7662\n",
      "Epoch 41/100\n",
      "20/20 [==============================] - 0s 4ms/step - loss: 0.4996 - accuracy: 0.7785 - val_loss: 0.5117 - val_accuracy: 0.7727\n",
      "Epoch 42/100\n",
      "20/20 [==============================] - 0s 4ms/step - loss: 0.4862 - accuracy: 0.7769 - val_loss: 0.5107 - val_accuracy: 0.7727\n",
      "Epoch 43/100\n",
      "20/20 [==============================] - 0s 4ms/step - loss: 0.4809 - accuracy: 0.7606 - val_loss: 0.5161 - val_accuracy: 0.7597\n",
      "Epoch 44/100\n",
      "20/20 [==============================] - 0s 4ms/step - loss: 0.4957 - accuracy: 0.7720 - val_loss: 0.5168 - val_accuracy: 0.7727\n",
      "Epoch 45/100\n",
      "20/20 [==============================] - 0s 4ms/step - loss: 0.4926 - accuracy: 0.7378 - val_loss: 0.5150 - val_accuracy: 0.7727\n",
      "Epoch 46/100\n",
      "20/20 [==============================] - 0s 4ms/step - loss: 0.4932 - accuracy: 0.7720 - val_loss: 0.5123 - val_accuracy: 0.7727\n",
      "Epoch 47/100\n",
      "20/20 [==============================] - 0s 4ms/step - loss: 0.4897 - accuracy: 0.7573 - val_loss: 0.5127 - val_accuracy: 0.7727\n",
      "Epoch 48/100\n",
      "20/20 [==============================] - 0s 4ms/step - loss: 0.4846 - accuracy: 0.7769 - val_loss: 0.5101 - val_accuracy: 0.7662\n",
      "Epoch 49/100\n",
      "20/20 [==============================] - 0s 4ms/step - loss: 0.4928 - accuracy: 0.7508 - val_loss: 0.5107 - val_accuracy: 0.7662\n",
      "Epoch 50/100\n",
      "20/20 [==============================] - 0s 4ms/step - loss: 0.4856 - accuracy: 0.7720 - val_loss: 0.5118 - val_accuracy: 0.7662\n",
      "Epoch 51/100\n",
      "20/20 [==============================] - 0s 4ms/step - loss: 0.4842 - accuracy: 0.7704 - val_loss: 0.5147 - val_accuracy: 0.7727\n",
      "Epoch 52/100\n",
      "20/20 [==============================] - 0s 4ms/step - loss: 0.4799 - accuracy: 0.7720 - val_loss: 0.5121 - val_accuracy: 0.7727\n",
      "Epoch 53/100\n",
      "20/20 [==============================] - 0s 4ms/step - loss: 0.4821 - accuracy: 0.7752 - val_loss: 0.5116 - val_accuracy: 0.7727\n",
      "Epoch 54/100\n",
      "20/20 [==============================] - 0s 4ms/step - loss: 0.4770 - accuracy: 0.7834 - val_loss: 0.5108 - val_accuracy: 0.7727\n",
      "Epoch 55/100\n",
      "20/20 [==============================] - 0s 4ms/step - loss: 0.4899 - accuracy: 0.7638 - val_loss: 0.5133 - val_accuracy: 0.7727\n",
      "Epoch 56/100\n",
      "20/20 [==============================] - 0s 4ms/step - loss: 0.4742 - accuracy: 0.7622 - val_loss: 0.5145 - val_accuracy: 0.7792\n",
      "Epoch 57/100\n",
      "20/20 [==============================] - 0s 5ms/step - loss: 0.4636 - accuracy: 0.7638 - val_loss: 0.5128 - val_accuracy: 0.7662\n",
      "Epoch 58/100\n",
      "20/20 [==============================] - 0s 4ms/step - loss: 0.4815 - accuracy: 0.7687 - val_loss: 0.5147 - val_accuracy: 0.7597\n"
     ]
    },
    {
     "name": "stdout",
     "output_type": "stream",
     "text": [
      "Epoch 59/100\n",
      "20/20 [==============================] - 0s 4ms/step - loss: 0.4587 - accuracy: 0.7752 - val_loss: 0.5129 - val_accuracy: 0.7662\n",
      "Epoch 60/100\n",
      "20/20 [==============================] - 0s 4ms/step - loss: 0.4908 - accuracy: 0.7785 - val_loss: 0.5115 - val_accuracy: 0.7662\n",
      "Epoch 61/100\n",
      "20/20 [==============================] - 0s 4ms/step - loss: 0.4855 - accuracy: 0.7752 - val_loss: 0.5106 - val_accuracy: 0.7727\n",
      "Epoch 62/100\n",
      "20/20 [==============================] - 0s 4ms/step - loss: 0.4818 - accuracy: 0.7655 - val_loss: 0.5123 - val_accuracy: 0.7727\n",
      "Epoch 63/100\n",
      "20/20 [==============================] - 0s 4ms/step - loss: 0.4664 - accuracy: 0.7704 - val_loss: 0.5100 - val_accuracy: 0.7727\n",
      "Epoch 64/100\n",
      "20/20 [==============================] - 0s 4ms/step - loss: 0.4876 - accuracy: 0.7834 - val_loss: 0.5113 - val_accuracy: 0.7727\n",
      "Epoch 65/100\n",
      "20/20 [==============================] - 0s 4ms/step - loss: 0.4964 - accuracy: 0.7638 - val_loss: 0.5093 - val_accuracy: 0.7792\n",
      "Epoch 66/100\n",
      "20/20 [==============================] - 0s 4ms/step - loss: 0.4658 - accuracy: 0.7932 - val_loss: 0.5150 - val_accuracy: 0.7792\n",
      "Epoch 67/100\n",
      "20/20 [==============================] - 0s 4ms/step - loss: 0.4728 - accuracy: 0.7834 - val_loss: 0.5139 - val_accuracy: 0.7792\n",
      "Epoch 68/100\n",
      "20/20 [==============================] - 0s 4ms/step - loss: 0.4709 - accuracy: 0.7850 - val_loss: 0.5175 - val_accuracy: 0.7532\n",
      "Epoch 69/100\n",
      "20/20 [==============================] - 0s 4ms/step - loss: 0.4794 - accuracy: 0.7590 - val_loss: 0.5145 - val_accuracy: 0.7727\n",
      "Epoch 70/100\n",
      "20/20 [==============================] - 0s 4ms/step - loss: 0.4806 - accuracy: 0.7394 - val_loss: 0.5139 - val_accuracy: 0.7727\n",
      "Epoch 71/100\n",
      "20/20 [==============================] - 0s 4ms/step - loss: 0.4935 - accuracy: 0.7541 - val_loss: 0.5145 - val_accuracy: 0.7727\n",
      "Epoch 72/100\n",
      "20/20 [==============================] - 0s 4ms/step - loss: 0.4851 - accuracy: 0.7573 - val_loss: 0.5145 - val_accuracy: 0.7792\n",
      "Epoch 73/100\n",
      "20/20 [==============================] - 0s 4ms/step - loss: 0.4659 - accuracy: 0.7638 - val_loss: 0.5142 - val_accuracy: 0.7727\n",
      "Epoch 74/100\n",
      "20/20 [==============================] - 0s 4ms/step - loss: 0.4867 - accuracy: 0.7785 - val_loss: 0.5137 - val_accuracy: 0.7727\n",
      "Epoch 75/100\n",
      "20/20 [==============================] - 0s 4ms/step - loss: 0.4831 - accuracy: 0.7573 - val_loss: 0.5121 - val_accuracy: 0.7727\n",
      "Epoch 76/100\n",
      "20/20 [==============================] - 0s 4ms/step - loss: 0.4735 - accuracy: 0.7801 - val_loss: 0.5131 - val_accuracy: 0.7792\n",
      "Epoch 77/100\n",
      "20/20 [==============================] - 0s 4ms/step - loss: 0.4709 - accuracy: 0.7818 - val_loss: 0.5134 - val_accuracy: 0.7727\n",
      "Epoch 78/100\n",
      "20/20 [==============================] - 0s 4ms/step - loss: 0.4511 - accuracy: 0.7736 - val_loss: 0.5145 - val_accuracy: 0.7662\n",
      "Epoch 79/100\n",
      "20/20 [==============================] - 0s 4ms/step - loss: 0.4791 - accuracy: 0.7687 - val_loss: 0.5129 - val_accuracy: 0.7662\n",
      "Epoch 80/100\n",
      "20/20 [==============================] - 0s 4ms/step - loss: 0.4722 - accuracy: 0.7606 - val_loss: 0.5116 - val_accuracy: 0.7727\n",
      "Epoch 81/100\n",
      "20/20 [==============================] - 0s 4ms/step - loss: 0.4727 - accuracy: 0.7801 - val_loss: 0.5106 - val_accuracy: 0.7662\n",
      "Epoch 82/100\n",
      "20/20 [==============================] - 0s 4ms/step - loss: 0.4578 - accuracy: 0.7801 - val_loss: 0.5112 - val_accuracy: 0.7727\n",
      "Epoch 83/100\n",
      "20/20 [==============================] - 0s 4ms/step - loss: 0.4843 - accuracy: 0.7638 - val_loss: 0.5124 - val_accuracy: 0.7597\n",
      "Epoch 84/100\n",
      "20/20 [==============================] - 0s 4ms/step - loss: 0.4725 - accuracy: 0.7704 - val_loss: 0.5123 - val_accuracy: 0.7727\n",
      "Epoch 85/100\n",
      "20/20 [==============================] - 0s 4ms/step - loss: 0.4831 - accuracy: 0.7541 - val_loss: 0.5113 - val_accuracy: 0.7727\n",
      "Epoch 86/100\n",
      "20/20 [==============================] - 0s 4ms/step - loss: 0.4667 - accuracy: 0.7720 - val_loss: 0.5123 - val_accuracy: 0.7662\n",
      "Epoch 87/100\n",
      "20/20 [==============================] - 0s 5ms/step - loss: 0.4609 - accuracy: 0.7704 - val_loss: 0.5167 - val_accuracy: 0.7727\n",
      "Epoch 88/100\n",
      "20/20 [==============================] - 0s 5ms/step - loss: 0.4622 - accuracy: 0.7801 - val_loss: 0.5150 - val_accuracy: 0.7727\n",
      "Epoch 89/100\n",
      "20/20 [==============================] - 0s 4ms/step - loss: 0.4861 - accuracy: 0.7541 - val_loss: 0.5123 - val_accuracy: 0.7727\n",
      "Epoch 90/100\n",
      "20/20 [==============================] - 0s 4ms/step - loss: 0.4599 - accuracy: 0.7687 - val_loss: 0.5147 - val_accuracy: 0.7727\n",
      "Epoch 91/100\n",
      "20/20 [==============================] - 0s 4ms/step - loss: 0.4775 - accuracy: 0.7704 - val_loss: 0.5146 - val_accuracy: 0.7662\n",
      "Epoch 92/100\n",
      "20/20 [==============================] - 0s 4ms/step - loss: 0.4563 - accuracy: 0.7769 - val_loss: 0.5181 - val_accuracy: 0.7662\n",
      "Epoch 93/100\n",
      "20/20 [==============================] - 0s 5ms/step - loss: 0.4747 - accuracy: 0.7769 - val_loss: 0.5139 - val_accuracy: 0.7727\n",
      "Epoch 94/100\n",
      "20/20 [==============================] - 0s 4ms/step - loss: 0.4665 - accuracy: 0.7964 - val_loss: 0.5157 - val_accuracy: 0.7792\n",
      "Epoch 95/100\n",
      "20/20 [==============================] - 0s 4ms/step - loss: 0.4790 - accuracy: 0.7818 - val_loss: 0.5125 - val_accuracy: 0.7857\n",
      "Epoch 96/100\n",
      "20/20 [==============================] - 0s 4ms/step - loss: 0.4714 - accuracy: 0.7720 - val_loss: 0.5121 - val_accuracy: 0.7727\n",
      "Epoch 97/100\n",
      "20/20 [==============================] - 0s 4ms/step - loss: 0.4595 - accuracy: 0.7785 - val_loss: 0.5124 - val_accuracy: 0.7792\n",
      "Epoch 98/100\n",
      "20/20 [==============================] - 0s 4ms/step - loss: 0.4607 - accuracy: 0.7850 - val_loss: 0.5160 - val_accuracy: 0.7597\n",
      "Epoch 99/100\n",
      "20/20 [==============================] - 0s 4ms/step - loss: 0.4729 - accuracy: 0.7899 - val_loss: 0.5127 - val_accuracy: 0.7727\n",
      "Epoch 100/100\n",
      "20/20 [==============================] - 0s 4ms/step - loss: 0.4645 - accuracy: 0.7671 - val_loss: 0.5126 - val_accuracy: 0.7597\n"
     ]
    },
    {
     "data": {
      "text/plain": [
       "<keras.callbacks.History at 0x22e0548a730>"
      ]
     },
     "execution_count": 51,
     "metadata": {},
     "output_type": "execute_result"
    }
   ],
   "source": [
    "model.fit(X_train,y_train,batch_size=32,epochs=100,\n",
    "          validation_data=(X_test,y_test))"
   ]
  },
  {
   "cell_type": "code",
   "execution_count": null,
   "id": "bb1e4aa7",
   "metadata": {},
   "outputs": [],
   "source": []
  }
 ],
 "metadata": {
  "kernelspec": {
   "display_name": "Python 3",
   "language": "python",
   "name": "python3"
  },
  "language_info": {
   "codemirror_mode": {
    "name": "ipython",
    "version": 3
   },
   "file_extension": ".py",
   "mimetype": "text/x-python",
   "name": "python",
   "nbconvert_exporter": "python",
   "pygments_lexer": "ipython3",
   "version": "3.8.8"
  }
 },
 "nbformat": 4,
 "nbformat_minor": 5
}
