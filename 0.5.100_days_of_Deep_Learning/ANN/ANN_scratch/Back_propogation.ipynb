{
 "cells": [
  {
   "cell_type": "code",
   "execution_count": null,
   "id": "e22d7ec0",
   "metadata": {},
   "outputs": [
    {
     "ename": "",
     "evalue": "",
     "output_type": "error",
     "traceback": [
      "\u001b[1;31mRunning cells with 'Python 3.7.0 (conda)' requires ipykernel package.\n",
      "\u001b[1;31mRun the following command to install 'ipykernel' into the Python environment. \n",
      "\u001b[1;31mCommand: 'conda install -p c:\\Users\\SREEMAN\\AI_and_Machine_Learning\\0.5. 100 days of Deep Learning\\ANN\\ANN_scratch\\ANN ipykernel --update-deps --force-reinstall'"
     ]
    }
   ],
   "source": [
    "import numpy as np\n",
    "import pandas as pd"
   ]
  },
  {
   "cell_type": "code",
   "execution_count": null,
   "id": "68a0c1fe",
   "metadata": {},
   "outputs": [
    {
     "ename": "",
     "evalue": "",
     "output_type": "error",
     "traceback": [
      "\u001b[1;31mRunning cells with 'Python 3.7.0 (conda)' requires ipykernel package.\n",
      "\u001b[1;31mRun the following command to install 'ipykernel' into the Python environment. \n",
      "\u001b[1;31mCommand: 'conda install -p c:\\Users\\SREEMAN\\AI_and_Machine_Learning\\0.5. 100 days of Deep Learning\\ANN\\ANN_scratch\\ANN ipykernel --update-deps --force-reinstall'"
     ]
    }
   ],
   "source": [
    "input_dim = 5\n",
    "nodes = 3"
   ]
  },
  {
   "cell_type": "code",
   "execution_count": null,
   "id": "24eee0db",
   "metadata": {},
   "outputs": [],
   "source": [
    "params = {\"weights\" : (input_dim*nodes), \"bias\" : nodes}"
   ]
  },
  {
   "cell_type": "code",
   "execution_count": null,
   "id": "26b6e2b7",
   "metadata": {},
   "outputs": [],
   "source": [
    "params"
   ]
  },
  {
   "cell_type": "code",
   "execution_count": null,
   "id": "d196d442",
   "metadata": {},
   "outputs": [],
   "source": [
    "np.ones((nodes,input_dim))"
   ]
  },
  {
   "cell_type": "code",
   "execution_count": null,
   "id": "3ea67197",
   "metadata": {},
   "outputs": [],
   "source": [
    "np.zeros((nodes,1))"
   ]
  },
  {
   "cell_type": "code",
   "execution_count": 28,
   "id": "3979c4fc",
   "metadata": {},
   "outputs": [],
   "source": [
    "nodes = [2]\n",
    "layers = 1"
   ]
  },
  {
   "cell_type": "code",
   "execution_count": 29,
   "id": "7bcb7057",
   "metadata": {},
   "outputs": [],
   "source": [
    "curr = 4\n",
    "layers = 2\n",
    "nodes.append(curr)"
   ]
  },
  {
   "cell_type": "code",
   "execution_count": 30,
   "id": "4a9327ba",
   "metadata": {},
   "outputs": [
    {
     "data": {
      "text/plain": [
       "[2, 4]"
      ]
     },
     "execution_count": 30,
     "metadata": {},
     "output_type": "execute_result"
    }
   ],
   "source": [
    "nodes"
   ]
  },
  {
   "cell_type": "code",
   "execution_count": 31,
   "id": "d59da2bf",
   "metadata": {},
   "outputs": [
    {
     "data": {
      "text/plain": [
       "2"
      ]
     },
     "execution_count": 31,
     "metadata": {},
     "output_type": "execute_result"
    }
   ],
   "source": [
    "nodes[layers-2]"
   ]
  },
  {
   "cell_type": "code",
   "execution_count": 36,
   "id": "e91af96e",
   "metadata": {},
   "outputs": [],
   "source": [
    "params = {}"
   ]
  },
  {
   "cell_type": "code",
   "execution_count": 37,
   "id": "eb7f7b01",
   "metadata": {},
   "outputs": [],
   "source": [
    "params[\"w1\"] = [1,1]"
   ]
  },
  {
   "cell_type": "code",
   "execution_count": 41,
   "id": "1fe138bf",
   "metadata": {},
   "outputs": [
    {
     "data": {
      "text/html": [
       "<div>\n",
       "<style scoped>\n",
       "    .dataframe tbody tr th:only-of-type {\n",
       "        vertical-align: middle;\n",
       "    }\n",
       "\n",
       "    .dataframe tbody tr th {\n",
       "        vertical-align: top;\n",
       "    }\n",
       "\n",
       "    .dataframe thead th {\n",
       "        text-align: right;\n",
       "    }\n",
       "</style>\n",
       "<table border=\"1\" class=\"dataframe\">\n",
       "  <thead>\n",
       "    <tr style=\"text-align: right;\">\n",
       "      <th></th>\n",
       "      <th>col1</th>\n",
       "      <th>col2</th>\n",
       "    </tr>\n",
       "  </thead>\n",
       "  <tbody>\n",
       "    <tr>\n",
       "      <th>0</th>\n",
       "      <td>1</td>\n",
       "      <td>4</td>\n",
       "    </tr>\n",
       "    <tr>\n",
       "      <th>1</th>\n",
       "      <td>2</td>\n",
       "      <td>5</td>\n",
       "    </tr>\n",
       "    <tr>\n",
       "      <th>2</th>\n",
       "      <td>3</td>\n",
       "      <td>6</td>\n",
       "    </tr>\n",
       "  </tbody>\n",
       "</table>\n",
       "</div>"
      ],
      "text/plain": [
       "   col1  col2\n",
       "0     1     4\n",
       "1     2     5\n",
       "2     3     6"
      ]
     },
     "execution_count": 41,
     "metadata": {},
     "output_type": "execute_result"
    }
   ],
   "source": [
    "df = pd.DataFrame({\"col1\" : [1,2,3], \"col2\" : [4,5,6]})\n",
    "df"
   ]
  },
  {
   "cell_type": "code",
   "execution_count": 43,
   "id": "c91b7441",
   "metadata": {},
   "outputs": [
    {
     "data": {
      "text/plain": [
       "array([1, 4], dtype=int64)"
      ]
     },
     "execution_count": 43,
     "metadata": {},
     "output_type": "execute_result"
    }
   ],
   "source": [
    "np.array(df)[0]"
   ]
  },
  {
   "cell_type": "code",
   "execution_count": 44,
   "id": "96b07e97",
   "metadata": {},
   "outputs": [
    {
     "data": {
      "text/plain": [
       "array([[1, 4],\n",
       "       [2, 5],\n",
       "       [3, 6]])"
      ]
     },
     "execution_count": 44,
     "metadata": {},
     "output_type": "execute_result"
    }
   ],
   "source": [
    "np.array(np.array([[1,4],[2,5],[3,6]]))"
   ]
  },
  {
   "cell_type": "code",
   "execution_count": 54,
   "id": "ea18f955",
   "metadata": {},
   "outputs": [],
   "source": [
    "wts = np.array([[1,2],[4,5]])\n",
    "b = np.array([[5]])\n",
    "x = np.array([[2,3]])"
   ]
  },
  {
   "cell_type": "code",
   "execution_count": 55,
   "id": "6bbeca5f",
   "metadata": {},
   "outputs": [
    {
     "data": {
      "text/plain": [
       "(1, 2)"
      ]
     },
     "execution_count": 55,
     "metadata": {},
     "output_type": "execute_result"
    }
   ],
   "source": [
    "x.shape"
   ]
  },
  {
   "cell_type": "code",
   "execution_count": 56,
   "id": "3b27cac2",
   "metadata": {},
   "outputs": [
    {
     "data": {
      "text/plain": [
       "13"
      ]
     },
     "execution_count": 56,
     "metadata": {},
     "output_type": "execute_result"
    }
   ],
   "source": [
    "(2*1)+(3*2)+5"
   ]
  },
  {
   "cell_type": "code",
   "execution_count": 58,
   "id": "dcd0cb80",
   "metadata": {},
   "outputs": [
    {
     "data": {
      "text/plain": [
       "array([[13],\n",
       "       [28]])"
      ]
     },
     "execution_count": 58,
     "metadata": {},
     "output_type": "execute_result"
    }
   ],
   "source": [
    "np.dot(wts,x.T) + b"
   ]
  },
  {
   "cell_type": "code",
   "execution_count": 5,
   "id": "fef979ff",
   "metadata": {},
   "outputs": [
    {
     "data": {
      "text/plain": [
       "1.5"
      ]
     },
     "execution_count": 5,
     "metadata": {},
     "output_type": "execute_result"
    }
   ],
   "source": [
    "np.mean([1,2])"
   ]
  },
  {
   "cell_type": "code",
   "execution_count": 6,
   "id": "0505ecdf",
   "metadata": {},
   "outputs": [],
   "source": [
    "# w1(11)\n",
    "idx = {\"layer\" : 1,\"node\": 1,\n",
    "        \"input_feat\" : 1 ,\"bias\": False}"
   ]
  },
  {
   "cell_type": "code",
   "execution_count": 8,
   "id": "2a360bf4",
   "metadata": {},
   "outputs": [
    {
     "name": "stdout",
     "output_type": "stream",
     "text": [
      "wts\n"
     ]
    }
   ],
   "source": [
    "if idx[\"bias\"]:\n",
    "    print(\"bias\")\n",
    "else:\n",
    "    print(\"wts\")"
   ]
  },
  {
   "cell_type": "code",
   "execution_count": 49,
   "id": "3e48f7a2",
   "metadata": {},
   "outputs": [],
   "source": [
    "from copy import deepcopy"
   ]
  },
  {
   "cell_type": "code",
   "execution_count": 50,
   "id": "ba826f8e",
   "metadata": {},
   "outputs": [],
   "source": [
    "params = {\"w1\" : [[1,2],[3,4]],\"b1\":[[5],[6]],\n",
    "         \"w2\": [[7,8]],\"b2\":[[9]]}"
   ]
  },
  {
   "cell_type": "code",
   "execution_count": 52,
   "id": "96296250",
   "metadata": {},
   "outputs": [],
   "source": [
    "params_copy = deepcopy(params)"
   ]
  },
  {
   "cell_type": "code",
   "execution_count": 27,
   "id": "0c178cbc",
   "metadata": {},
   "outputs": [],
   "source": [
    "arg = params[\"w\"+str(1)][1-1][1-1]"
   ]
  },
  {
   "cell_type": "code",
   "execution_count": 28,
   "id": "a1dae02f",
   "metadata": {},
   "outputs": [],
   "source": [
    "arg = arg + 0.1"
   ]
  },
  {
   "cell_type": "code",
   "execution_count": 29,
   "id": "2e86f5e3",
   "metadata": {},
   "outputs": [
    {
     "data": {
      "text/plain": [
       "1.1"
      ]
     },
     "execution_count": 29,
     "metadata": {},
     "output_type": "execute_result"
    }
   ],
   "source": [
    "arg"
   ]
  },
  {
   "cell_type": "code",
   "execution_count": 53,
   "id": "543efece",
   "metadata": {},
   "outputs": [],
   "source": [
    "params_copy[\"w\"+str(1)][1-1] \\\n",
    "[1-1] += 0.1"
   ]
  },
  {
   "cell_type": "code",
   "execution_count": 54,
   "id": "970610c3",
   "metadata": {},
   "outputs": [
    {
     "data": {
      "text/plain": [
       "{'w1': [[1, 2], [3, 4]], 'b1': [[5], [6]], 'w2': [[7, 8]], 'b2': [[9]]}"
      ]
     },
     "execution_count": 54,
     "metadata": {},
     "output_type": "execute_result"
    }
   ],
   "source": [
    "params"
   ]
  },
  {
   "cell_type": "code",
   "execution_count": 55,
   "id": "cb64c230",
   "metadata": {},
   "outputs": [
    {
     "data": {
      "text/plain": [
       "{'w1': [[1.1, 2], [3, 4]], 'b1': [[5], [6]], 'w2': [[7, 8]], 'b2': [[9]]}"
      ]
     },
     "execution_count": 55,
     "metadata": {},
     "output_type": "execute_result"
    }
   ],
   "source": [
    "params_copy"
   ]
  },
  {
   "cell_type": "code",
   "execution_count": 63,
   "id": "ec4b7fe4",
   "metadata": {},
   "outputs": [
    {
     "data": {
      "text/plain": [
       "[[1, 2], [3, 4]]"
      ]
     },
     "execution_count": 63,
     "metadata": {},
     "output_type": "execute_result"
    }
   ],
   "source": [
    "wts = params[\"w1\"]\n",
    "wts"
   ]
  },
  {
   "cell_type": "code",
   "execution_count": 64,
   "id": "708e389b",
   "metadata": {},
   "outputs": [],
   "source": [
    "z = np.dot(wts,[[2],[2]])"
   ]
  },
  {
   "cell_type": "code",
   "execution_count": 65,
   "id": "0f4f25c0",
   "metadata": {},
   "outputs": [
    {
     "data": {
      "text/plain": [
       "array([[ 6],\n",
       "       [14]])"
      ]
     },
     "execution_count": 65,
     "metadata": {},
     "output_type": "execute_result"
    }
   ],
   "source": [
    "z"
   ]
  },
  {
   "cell_type": "code",
   "execution_count": 66,
   "id": "deb051b6",
   "metadata": {},
   "outputs": [
    {
     "data": {
      "text/plain": [
       "[[1, 2], [3, 4]]"
      ]
     },
     "execution_count": 66,
     "metadata": {},
     "output_type": "execute_result"
    }
   ],
   "source": [
    "params[\"w1\"]"
   ]
  },
  {
   "cell_type": "code",
   "execution_count": 75,
   "id": "9d551988",
   "metadata": {},
   "outputs": [],
   "source": [
    "params = {\"w1\" : [[1,2],[3,4]],\"b1\":[[5],[6]],\n",
    "         \"w2\": [[7,8]],\"b2\":[[9]]}"
   ]
  },
  {
   "cell_type": "markdown",
   "id": "d3187b6f",
   "metadata": {},
   "source": [
    "params = {\"w1\" : [[x11,x21],[x12,x22]],\"b1\":[[b11],[b12]],\n",
    "         \"w2\": [[y11,y21]],\"b2\":[[b21]]}"
   ]
  },
  {
   "cell_type": "code",
   "execution_count": 2,
   "id": "6d6f66d1",
   "metadata": {},
   "outputs": [],
   "source": [
    "x = [[1,2]]"
   ]
  },
  {
   "cell_type": "code",
   "execution_count": null,
   "id": "2b1937a5",
   "metadata": {},
   "outputs": [],
   "source": []
  },
  {
   "cell_type": "code",
   "execution_count": 24,
   "id": "655ca1b1",
   "metadata": {},
   "outputs": [],
   "source": [
    "def summation_ (wts:np.ndarray,bias:np.ndarray,X:np.ndarray):\n",
    "        z = np.dot(wts,X) + bias\n",
    "        return z"
   ]
  },
  {
   "cell_type": "code",
   "execution_count": 63,
   "id": "f3ed0050",
   "metadata": {},
   "outputs": [],
   "source": [
    "params_ = {\"w1\" : [[0.1,0.1],[0.1,0.1]],\"b1\":[[0],[0]],\n",
    "         \"w2\": [[0.1,0.1]],\"b2\":[[0]]}"
   ]
  },
  {
   "cell_type": "code",
   "execution_count": 26,
   "id": "b4073df7",
   "metadata": {},
   "outputs": [],
   "source": [
    "outputs = {}"
   ]
  },
  {
   "cell_type": "code",
   "execution_count": 51,
   "id": "f4eacd04",
   "metadata": {},
   "outputs": [],
   "source": [
    "def forward_prop_ (X,parameters=params_)->float:\n",
    "        \"\"\"if params:\n",
    "            parameters = params\n",
    "        else:\n",
    "            parameters = params_\"\"\"\n",
    "        layers_ = 2\n",
    "        A = X\n",
    "        for l in range(1,layers_+1):\n",
    "            wts = parameters[\"w\" + str(l)]\n",
    "            bias = parameters[\"b\" + str(l)]\n",
    "            A = summation_(wts,bias,A)\n",
    "            outputs[\"a\"+str(l)] = A\n",
    "        return A[0][0]"
   ]
  },
  {
   "cell_type": "code",
   "execution_count": 28,
   "id": "be0b29e7",
   "metadata": {},
   "outputs": [],
   "source": [
    "def mse_loss (y_pred,y)->float:\n",
    "    # mean squared loss\n",
    "    mse = (y_pred - y)**2\n",
    "    return mse"
   ]
  },
  {
   "cell_type": "code",
   "execution_count": 29,
   "id": "5d93688e",
   "metadata": {},
   "outputs": [],
   "source": [
    "from copy import deepcopy"
   ]
  },
  {
   "cell_type": "code",
   "execution_count": 53,
   "id": "3d05401c",
   "metadata": {},
   "outputs": [],
   "source": [
    " def diffp(func,idx:dict,params_,*args):\n",
    "        \"\"\"\n",
    "        :param func: function to find y_pred\n",
    "        :param idx: dictionary {\"layer\" : <layer_no>:int,\"node\": <node_no>:int,\n",
    "        \"input_feat\" : <input_feat_no>:int,\"bias\":<True/False>}\n",
    "        :return:\n",
    "        \"\"\"\n",
    "        y = func(params_,*args)\n",
    "        delta = 0.000000000001\n",
    "\n",
    "        if idx[\"bias\"]:\n",
    "            # update bias\n",
    "            arg = \"b\"\n",
    "        else:\n",
    "            # update wts\n",
    "            arg = \"w\"\n",
    "        # Deep Copy self.params_ and add delta to req. wt or bias\n",
    "        params_copy = deepcopy(params_)\n",
    "        params_copy[arg + str(idx[\"layer\"])][idx[\"node\"] - 1] \\\n",
    "            [idx[\"input_feat\"] - 1] += delta\n",
    "\n",
    "        y1 = func(params_copy,*args)\n",
    "        return (y1 - y)/delta\n"
   ]
  },
  {
   "cell_type": "code",
   "execution_count": 54,
   "id": "219141fb",
   "metadata": {},
   "outputs": [],
   "source": [
    "def Loss_nn (params_,X,y)->float:\n",
    "    y_pred = forward_prop_(X,parameters=params_)\n",
    "    loss_func = mse_loss(y_pred,y)\n",
    "    return loss_func\n"
   ]
  },
  {
   "cell_type": "code",
   "execution_count": 55,
   "id": "eb7dc6b3",
   "metadata": {},
   "outputs": [],
   "source": [
    "# w1(11)\n",
    "idx = {\"layer\" : 1,\"node\": 1,\n",
    "        \"input_feat\" : 1 ,\"bias\": False}"
   ]
  },
  {
   "cell_type": "code",
   "execution_count": 56,
   "id": "c4db6867",
   "metadata": {},
   "outputs": [],
   "source": [
    "X = [[8],[8]]\n",
    "y = 4"
   ]
  },
  {
   "cell_type": "code",
   "execution_count": 68,
   "id": "2f1fd34a",
   "metadata": {},
   "outputs": [],
   "source": [
    "x11 = X[1-1][1-1]"
   ]
  },
  {
   "cell_type": "code",
   "execution_count": 57,
   "id": "2a3a5ff6",
   "metadata": {},
   "outputs": [
    {
     "data": {
      "text/plain": [
       "-5.88507020893303"
      ]
     },
     "execution_count": 57,
     "metadata": {},
     "output_type": "execute_result"
    }
   ],
   "source": [
    "diffp(Loss_nn,idx,params_,X,y)"
   ]
  },
  {
   "cell_type": "code",
   "execution_count": 59,
   "id": "a6ff08a6",
   "metadata": {},
   "outputs": [
    {
     "name": "stdout",
     "output_type": "stream",
     "text": [
      "0.32000000000000006\n"
     ]
    }
   ],
   "source": [
    "y_pred = forward_prop_(X)\n",
    "print(y_pred)"
   ]
  },
  {
   "cell_type": "code",
   "execution_count": 65,
   "id": "c59bd841",
   "metadata": {},
   "outputs": [],
   "source": [
    "# w2(11)\n",
    "w2_11 = params_[\"w2\"][1-1][1-1]"
   ]
  },
  {
   "cell_type": "code",
   "execution_count": 69,
   "id": "e3e375f5",
   "metadata": {},
   "outputs": [
    {
     "data": {
      "text/plain": [
       "-5.888"
      ]
     },
     "execution_count": 69,
     "metadata": {},
     "output_type": "execute_result"
    }
   ],
   "source": [
    "-2*(y-y_pred)*w2_11*x11"
   ]
  },
  {
   "cell_type": "code",
   "execution_count": 70,
   "id": "092a50ff",
   "metadata": {},
   "outputs": [],
   "source": [
    "def test (a,b=None):\n",
    "    if not b:\n",
    "        b = 5\n",
    "    print(a+b)"
   ]
  },
  {
   "cell_type": "code",
   "execution_count": 76,
   "id": "917a913e",
   "metadata": {},
   "outputs": [
    {
     "data": {
      "text/plain": [
       "{'w1': [[1, 2], [3, 4]], 'b1': [[5], [6]], 'w2': [[7, 8]], 'b2': [[9]]}"
      ]
     },
     "execution_count": 76,
     "metadata": {},
     "output_type": "execute_result"
    }
   ],
   "source": [
    "params"
   ]
  },
  {
   "cell_type": "code",
   "execution_count": 78,
   "id": "11b278c5",
   "metadata": {},
   "outputs": [],
   "source": [
    "layer = 1\n",
    "node = 0"
   ]
  },
  {
   "cell_type": "code",
   "execution_count": 82,
   "id": "52d3a860",
   "metadata": {},
   "outputs": [
    {
     "data": {
      "text/plain": [
       "range(0, 2)"
      ]
     },
     "execution_count": 82,
     "metadata": {},
     "output_type": "execute_result"
    }
   ],
   "source": [
    "range(len(params[\"w\"+str(layer)][node]))"
   ]
  },
  {
   "cell_type": "code",
   "execution_count": 85,
   "id": "fcb52d8f",
   "metadata": {},
   "outputs": [
    {
     "data": {
      "text/plain": [
       "[5]"
      ]
     },
     "execution_count": 85,
     "metadata": {},
     "output_type": "execute_result"
    }
   ],
   "source": [
    "params[\"b\"+str(layer)][node]"
   ]
  },
  {
   "cell_type": "code",
   "execution_count": null,
   "id": "bab667be",
   "metadata": {},
   "outputs": [],
   "source": []
  }
 ],
 "metadata": {
  "kernelspec": {
   "display_name": "Python 3.7.0 (conda)",
   "language": "python",
   "name": "python3"
  },
  "language_info": {
   "codemirror_mode": {
    "name": "ipython",
    "version": 3
   },
   "file_extension": ".py",
   "mimetype": "text/x-python",
   "name": "python",
   "nbconvert_exporter": "python",
   "pygments_lexer": "ipython3",
   "version": "3.7.0"
  },
  "vscode": {
   "interpreter": {
    "hash": "6a8470162ffa56901fb977386742ed1c60aa193bd0735f0daf3975e33ebc7403"
   }
  }
 },
 "nbformat": 4,
 "nbformat_minor": 5
}
