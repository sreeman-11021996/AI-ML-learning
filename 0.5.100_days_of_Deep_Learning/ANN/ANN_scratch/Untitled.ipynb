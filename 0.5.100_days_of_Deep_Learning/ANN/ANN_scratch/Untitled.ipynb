{
 "cells": [
  {
   "cell_type": "code",
   "execution_count": 12,
   "id": "16d28f24",
   "metadata": {},
   "outputs": [],
   "source": [
    "import tensorflow as tf\n",
    "import numpy as np"
   ]
  },
  {
   "cell_type": "code",
   "execution_count": 14,
   "id": "431c331d",
   "metadata": {},
   "outputs": [],
   "source": [
    "units = 12\n",
    "input_dim = (4)\n",
    "w_init = tf.random_normal_initializer(mean=0.0, stddev=0.05, seed=None)\n",
    "w = tf.Variable(initial_value=w_init(shape=(input_dim, units), \n",
    "                                 dtype=\"float32\"),trainable=False)"
   ]
  },
  {
   "cell_type": "code",
   "execution_count": 17,
   "id": "3644c044",
   "metadata": {},
   "outputs": [
    {
     "data": {
      "text/plain": [
       "<tf.Variable 'Variable:0' shape=(4, 12) dtype=float32, numpy=\n",
       "array([[ 0.07081457,  0.02077763, -0.0643397 ,  0.00631899, -0.02785736,\n",
       "        -0.00267016,  0.04333657,  0.02563743, -0.04697596, -0.06453356,\n",
       "        -0.06120157, -0.07073478],\n",
       "       [ 0.02180628,  0.01287329,  0.06980472, -0.03015578, -0.05481447,\n",
       "         0.05177343, -0.00786709, -0.01493014, -0.04320345,  0.02187097,\n",
       "         0.07418509,  0.02169574],\n",
       "       [-0.00013492, -0.10102749,  0.0007958 ,  0.01107044,  0.03397633,\n",
       "         0.01432549, -0.00958932, -0.02609111,  0.06245679,  0.05215244,\n",
       "         0.04426577, -0.03549164],\n",
       "       [-0.0074165 , -0.05561229, -0.13144927, -0.04133008, -0.01029997,\n",
       "        -0.02832044,  0.0461928 , -0.04969732,  0.02732045, -0.04710715,\n",
       "        -0.02014013, -0.01233588]], dtype=float32)>"
      ]
     },
     "execution_count": 17,
     "metadata": {},
     "output_type": "execute_result"
    }
   ],
   "source": [
    "w"
   ]
  },
  {
   "cell_type": "code",
   "execution_count": 13,
   "id": "2a9e1b51",
   "metadata": {},
   "outputs": [],
   "source": [
    "np.random.seed(seed=42)"
   ]
  },
  {
   "cell_type": "code",
   "execution_count": null,
   "id": "1d8f44e1",
   "metadata": {},
   "outputs": [],
   "source": [
    "w = np.random.normal(loc=0.0, scale=0.05, size=(input_dim, units))"
   ]
  },
  {
   "cell_type": "code",
   "execution_count": null,
   "id": "394be2ab",
   "metadata": {},
   "outputs": [],
   "source": []
  }
 ],
 "metadata": {
  "kernelspec": {
   "display_name": "Python 3",
   "language": "python",
   "name": "python3"
  },
  "language_info": {
   "codemirror_mode": {
    "name": "ipython",
    "version": 3
   },
   "file_extension": ".py",
   "mimetype": "text/x-python",
   "name": "python",
   "nbconvert_exporter": "python",
   "pygments_lexer": "ipython3",
   "version": "3.8.8"
  }
 },
 "nbformat": 4,
 "nbformat_minor": 5
}
