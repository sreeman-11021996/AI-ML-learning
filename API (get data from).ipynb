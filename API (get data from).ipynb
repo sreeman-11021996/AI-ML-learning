{
 "cells": [
  {
   "cell_type": "code",
   "execution_count": 1,
   "id": "cb76e329",
   "metadata": {},
   "outputs": [],
   "source": [
    "# website -> themoviedb.org\n",
    "# api key -> \"8265bd1679663a7ea12ac168da84d2e8\"\n",
    "# url - https://api.themoviedb.org/3/movie/top_rated?api_key=8265bd1679663a7ea12ac168da84d2e8&language=en-US&page=1"
   ]
  },
  {
   "cell_type": "code",
   "execution_count": null,
   "id": "f0423ede",
   "metadata": {},
   "outputs": [],
   "source": [
    "# \"requests\" library - it helps us hit http:// requests "
   ]
  },
  {
   "cell_type": "code",
   "execution_count": 2,
   "id": "64163d18",
   "metadata": {},
   "outputs": [],
   "source": [
    "import pandas as pd\n",
    "import requests"
   ]
  },
  {
   "cell_type": "code",
   "execution_count": null,
   "id": "89ab4510",
   "metadata": {},
   "outputs": [],
   "source": [
    "# requests - \n",
    "# a. GET request - get(url = .., params = {dict}) , \n",
    "# b. POST request - post(url = .., json = <payload>) : json -> send data to url"
   ]
  },
  {
   "cell_type": "code",
   "execution_count": 3,
   "id": "d258be22",
   "metadata": {},
   "outputs": [],
   "source": [
    "response = requests.get(\"https://api.themoviedb.org/3/movie/top_rated?api_key=8265bd1679663a7ea12ac168da84d2e8&language=en-US&page=1\")"
   ]
  },
  {
   "cell_type": "code",
   "execution_count": 5,
   "id": "a30cada7",
   "metadata": {},
   "outputs": [
    {
     "data": {
      "text/plain": [
       "<Response [200]>"
      ]
     },
     "execution_count": 5,
     "metadata": {},
     "output_type": "execute_result"
    }
   ],
   "source": [
    "response"
   ]
  },
  {
   "cell_type": "code",
   "execution_count": 16,
   "id": "bd563ac5",
   "metadata": {},
   "outputs": [
    {
     "data": {
      "text/plain": [
       "498"
      ]
     },
     "execution_count": 16,
     "metadata": {},
     "output_type": "execute_result"
    }
   ],
   "source": [
    "total_pgs = response.json()[\"total_pages\"]\n",
    "total_pgs"
   ]
  },
  {
   "cell_type": "code",
   "execution_count": 9,
   "id": "80071d4a",
   "metadata": {},
   "outputs": [],
   "source": [
    "test_df = pd.DataFrame(response.json()[\"results\"])[[\"id\",\"title\",\"release_date\",\"overview\",\n",
    "                                                    \"popularity\",\"vote_average\",\"vote_count\"]]"
   ]
  },
  {
   "cell_type": "code",
   "execution_count": 10,
   "id": "b352217b",
   "metadata": {},
   "outputs": [
    {
     "data": {
      "text/html": [
       "<div>\n",
       "<style scoped>\n",
       "    .dataframe tbody tr th:only-of-type {\n",
       "        vertical-align: middle;\n",
       "    }\n",
       "\n",
       "    .dataframe tbody tr th {\n",
       "        vertical-align: top;\n",
       "    }\n",
       "\n",
       "    .dataframe thead th {\n",
       "        text-align: right;\n",
       "    }\n",
       "</style>\n",
       "<table border=\"1\" class=\"dataframe\">\n",
       "  <thead>\n",
       "    <tr style=\"text-align: right;\">\n",
       "      <th></th>\n",
       "      <th>id</th>\n",
       "      <th>title</th>\n",
       "      <th>release_date</th>\n",
       "      <th>overview</th>\n",
       "      <th>popularity</th>\n",
       "      <th>vote_average</th>\n",
       "      <th>vote_count</th>\n",
       "    </tr>\n",
       "  </thead>\n",
       "  <tbody>\n",
       "    <tr>\n",
       "      <th>0</th>\n",
       "      <td>278</td>\n",
       "      <td>The Shawshank Redemption</td>\n",
       "      <td>1994-09-23</td>\n",
       "      <td>Framed in the 1940s for the double murder of h...</td>\n",
       "      <td>68.699</td>\n",
       "      <td>8.7</td>\n",
       "      <td>21409</td>\n",
       "    </tr>\n",
       "    <tr>\n",
       "      <th>1</th>\n",
       "      <td>19404</td>\n",
       "      <td>Dilwale Dulhania Le Jayenge</td>\n",
       "      <td>1995-10-20</td>\n",
       "      <td>Raj is a rich, carefree, happy-go-lucky second...</td>\n",
       "      <td>25.772</td>\n",
       "      <td>8.7</td>\n",
       "      <td>3639</td>\n",
       "    </tr>\n",
       "    <tr>\n",
       "      <th>2</th>\n",
       "      <td>238</td>\n",
       "      <td>The Godfather</td>\n",
       "      <td>1972-03-14</td>\n",
       "      <td>Spanning the years 1945 to 1955, a chronicle o...</td>\n",
       "      <td>67.896</td>\n",
       "      <td>8.7</td>\n",
       "      <td>15962</td>\n",
       "    </tr>\n",
       "    <tr>\n",
       "      <th>3</th>\n",
       "      <td>424</td>\n",
       "      <td>Schindler's List</td>\n",
       "      <td>1993-11-30</td>\n",
       "      <td>The true story of how businessman Oskar Schind...</td>\n",
       "      <td>45.099</td>\n",
       "      <td>8.6</td>\n",
       "      <td>12752</td>\n",
       "    </tr>\n",
       "    <tr>\n",
       "      <th>4</th>\n",
       "      <td>240</td>\n",
       "      <td>The Godfather: Part II</td>\n",
       "      <td>1974-12-20</td>\n",
       "      <td>In the continuing saga of the Corleone crime f...</td>\n",
       "      <td>45.162</td>\n",
       "      <td>8.6</td>\n",
       "      <td>9626</td>\n",
       "    </tr>\n",
       "    <tr>\n",
       "      <th>5</th>\n",
       "      <td>667257</td>\n",
       "      <td>Impossible Things</td>\n",
       "      <td>2021-06-17</td>\n",
       "      <td>A widow who is tormented by the memory of her ...</td>\n",
       "      <td>18.452</td>\n",
       "      <td>8.6</td>\n",
       "      <td>236</td>\n",
       "    </tr>\n",
       "    <tr>\n",
       "      <th>6</th>\n",
       "      <td>372754</td>\n",
       "      <td>Dou kyu sei – Classmates</td>\n",
       "      <td>2016-02-20</td>\n",
       "      <td>Rihito Sajo, an honor student with a perfect s...</td>\n",
       "      <td>15.920</td>\n",
       "      <td>8.6</td>\n",
       "      <td>228</td>\n",
       "    </tr>\n",
       "    <tr>\n",
       "      <th>7</th>\n",
       "      <td>129</td>\n",
       "      <td>Spirited Away</td>\n",
       "      <td>2001-07-20</td>\n",
       "      <td>A young girl, Chihiro, becomes trapped in a st...</td>\n",
       "      <td>86.807</td>\n",
       "      <td>8.5</td>\n",
       "      <td>12823</td>\n",
       "    </tr>\n",
       "    <tr>\n",
       "      <th>8</th>\n",
       "      <td>372058</td>\n",
       "      <td>Your Name.</td>\n",
       "      <td>2016-08-26</td>\n",
       "      <td>High schoolers Mitsuha and Taki are complete s...</td>\n",
       "      <td>167.307</td>\n",
       "      <td>8.5</td>\n",
       "      <td>8689</td>\n",
       "    </tr>\n",
       "    <tr>\n",
       "      <th>9</th>\n",
       "      <td>696374</td>\n",
       "      <td>Gabriel's Inferno</td>\n",
       "      <td>2020-05-29</td>\n",
       "      <td>An intriguing and sinful exploration of seduct...</td>\n",
       "      <td>11.907</td>\n",
       "      <td>8.5</td>\n",
       "      <td>2244</td>\n",
       "    </tr>\n",
       "    <tr>\n",
       "      <th>10</th>\n",
       "      <td>724089</td>\n",
       "      <td>Gabriel's Inferno: Part II</td>\n",
       "      <td>2020-07-31</td>\n",
       "      <td>Professor Gabriel Emerson finally learns the t...</td>\n",
       "      <td>16.508</td>\n",
       "      <td>8.5</td>\n",
       "      <td>1411</td>\n",
       "    </tr>\n",
       "    <tr>\n",
       "      <th>11</th>\n",
       "      <td>496243</td>\n",
       "      <td>Parasite</td>\n",
       "      <td>2019-05-30</td>\n",
       "      <td>All unemployed, Ki-taek's family takes peculia...</td>\n",
       "      <td>80.404</td>\n",
       "      <td>8.5</td>\n",
       "      <td>13685</td>\n",
       "    </tr>\n",
       "    <tr>\n",
       "      <th>12</th>\n",
       "      <td>389</td>\n",
       "      <td>12 Angry Men</td>\n",
       "      <td>1957-04-10</td>\n",
       "      <td>The defense and the prosecution have rested an...</td>\n",
       "      <td>26.604</td>\n",
       "      <td>8.5</td>\n",
       "      <td>6416</td>\n",
       "    </tr>\n",
       "    <tr>\n",
       "      <th>13</th>\n",
       "      <td>497</td>\n",
       "      <td>The Green Mile</td>\n",
       "      <td>1999-12-10</td>\n",
       "      <td>A supernatural tale set on death row in a Sout...</td>\n",
       "      <td>53.980</td>\n",
       "      <td>8.5</td>\n",
       "      <td>13920</td>\n",
       "    </tr>\n",
       "    <tr>\n",
       "      <th>14</th>\n",
       "      <td>761053</td>\n",
       "      <td>Gabriel's Inferno: Part III</td>\n",
       "      <td>2020-11-19</td>\n",
       "      <td>The final part of the film adaption of the ero...</td>\n",
       "      <td>23.949</td>\n",
       "      <td>8.5</td>\n",
       "      <td>963</td>\n",
       "    </tr>\n",
       "    <tr>\n",
       "      <th>15</th>\n",
       "      <td>155</td>\n",
       "      <td>The Dark Knight</td>\n",
       "      <td>2008-07-14</td>\n",
       "      <td>Batman raises the stakes in his war on crime. ...</td>\n",
       "      <td>85.538</td>\n",
       "      <td>8.5</td>\n",
       "      <td>27543</td>\n",
       "    </tr>\n",
       "    <tr>\n",
       "      <th>16</th>\n",
       "      <td>652837</td>\n",
       "      <td>Josee, the Tiger and the Fish</td>\n",
       "      <td>2020-12-25</td>\n",
       "      <td>With dreams of diving abroad, Tsuneo gets a jo...</td>\n",
       "      <td>21.187</td>\n",
       "      <td>8.5</td>\n",
       "      <td>226</td>\n",
       "    </tr>\n",
       "    <tr>\n",
       "      <th>17</th>\n",
       "      <td>680</td>\n",
       "      <td>Pulp Fiction</td>\n",
       "      <td>1994-09-10</td>\n",
       "      <td>A burger-loving hit man, his philosophical par...</td>\n",
       "      <td>57.087</td>\n",
       "      <td>8.5</td>\n",
       "      <td>23132</td>\n",
       "    </tr>\n",
       "    <tr>\n",
       "      <th>18</th>\n",
       "      <td>429</td>\n",
       "      <td>The Good, the Bad and the Ugly</td>\n",
       "      <td>1966-12-23</td>\n",
       "      <td>While the Civil War rages between the Union an...</td>\n",
       "      <td>46.221</td>\n",
       "      <td>8.5</td>\n",
       "      <td>6629</td>\n",
       "    </tr>\n",
       "    <tr>\n",
       "      <th>19</th>\n",
       "      <td>122</td>\n",
       "      <td>The Lord of the Rings: The Return of the King</td>\n",
       "      <td>2003-12-01</td>\n",
       "      <td>Aragorn is revealed as the heir to the ancient...</td>\n",
       "      <td>97.429</td>\n",
       "      <td>8.5</td>\n",
       "      <td>19521</td>\n",
       "    </tr>\n",
       "  </tbody>\n",
       "</table>\n",
       "</div>"
      ],
      "text/plain": [
       "        id                                          title release_date  \\\n",
       "0      278                       The Shawshank Redemption   1994-09-23   \n",
       "1    19404                    Dilwale Dulhania Le Jayenge   1995-10-20   \n",
       "2      238                                  The Godfather   1972-03-14   \n",
       "3      424                               Schindler's List   1993-11-30   \n",
       "4      240                         The Godfather: Part II   1974-12-20   \n",
       "5   667257                              Impossible Things   2021-06-17   \n",
       "6   372754                       Dou kyu sei – Classmates   2016-02-20   \n",
       "7      129                                  Spirited Away   2001-07-20   \n",
       "8   372058                                     Your Name.   2016-08-26   \n",
       "9   696374                              Gabriel's Inferno   2020-05-29   \n",
       "10  724089                     Gabriel's Inferno: Part II   2020-07-31   \n",
       "11  496243                                       Parasite   2019-05-30   \n",
       "12     389                                   12 Angry Men   1957-04-10   \n",
       "13     497                                 The Green Mile   1999-12-10   \n",
       "14  761053                    Gabriel's Inferno: Part III   2020-11-19   \n",
       "15     155                                The Dark Knight   2008-07-14   \n",
       "16  652837                  Josee, the Tiger and the Fish   2020-12-25   \n",
       "17     680                                   Pulp Fiction   1994-09-10   \n",
       "18     429                 The Good, the Bad and the Ugly   1966-12-23   \n",
       "19     122  The Lord of the Rings: The Return of the King   2003-12-01   \n",
       "\n",
       "                                             overview  popularity  \\\n",
       "0   Framed in the 1940s for the double murder of h...      68.699   \n",
       "1   Raj is a rich, carefree, happy-go-lucky second...      25.772   \n",
       "2   Spanning the years 1945 to 1955, a chronicle o...      67.896   \n",
       "3   The true story of how businessman Oskar Schind...      45.099   \n",
       "4   In the continuing saga of the Corleone crime f...      45.162   \n",
       "5   A widow who is tormented by the memory of her ...      18.452   \n",
       "6   Rihito Sajo, an honor student with a perfect s...      15.920   \n",
       "7   A young girl, Chihiro, becomes trapped in a st...      86.807   \n",
       "8   High schoolers Mitsuha and Taki are complete s...     167.307   \n",
       "9   An intriguing and sinful exploration of seduct...      11.907   \n",
       "10  Professor Gabriel Emerson finally learns the t...      16.508   \n",
       "11  All unemployed, Ki-taek's family takes peculia...      80.404   \n",
       "12  The defense and the prosecution have rested an...      26.604   \n",
       "13  A supernatural tale set on death row in a Sout...      53.980   \n",
       "14  The final part of the film adaption of the ero...      23.949   \n",
       "15  Batman raises the stakes in his war on crime. ...      85.538   \n",
       "16  With dreams of diving abroad, Tsuneo gets a jo...      21.187   \n",
       "17  A burger-loving hit man, his philosophical par...      57.087   \n",
       "18  While the Civil War rages between the Union an...      46.221   \n",
       "19  Aragorn is revealed as the heir to the ancient...      97.429   \n",
       "\n",
       "    vote_average  vote_count  \n",
       "0            8.7       21409  \n",
       "1            8.7        3639  \n",
       "2            8.7       15962  \n",
       "3            8.6       12752  \n",
       "4            8.6        9626  \n",
       "5            8.6         236  \n",
       "6            8.6         228  \n",
       "7            8.5       12823  \n",
       "8            8.5        8689  \n",
       "9            8.5        2244  \n",
       "10           8.5        1411  \n",
       "11           8.5       13685  \n",
       "12           8.5        6416  \n",
       "13           8.5       13920  \n",
       "14           8.5         963  \n",
       "15           8.5       27543  \n",
       "16           8.5         226  \n",
       "17           8.5       23132  \n",
       "18           8.5        6629  \n",
       "19           8.5       19521  "
      ]
     },
     "execution_count": 10,
     "metadata": {},
     "output_type": "execute_result"
    }
   ],
   "source": [
    "test_df"
   ]
  },
  {
   "cell_type": "code",
   "execution_count": 18,
   "id": "468ddc82",
   "metadata": {},
   "outputs": [],
   "source": [
    "# for loop \n",
    "df = pd.DataFrame()"
   ]
  },
  {
   "cell_type": "code",
   "execution_count": 19,
   "id": "3ab540c0",
   "metadata": {},
   "outputs": [],
   "source": [
    "for i in range(1,(total_pgs+1)):\n",
    "        response = requests.get(\"https://api.themoviedb.org/3/movie/top_rated?api_key=8265bd1679663a7ea12ac168da84d2e8&language=en-US&page={}\".format(i))\n",
    "        temp_df = pd.DataFrame(response.json()[\"results\"])[[\"id\",\"title\",\"release_date\",\"overview\",\n",
    "                                                    \"popularity\",\"vote_average\",\"vote_count\"]]\n",
    "        df = df.append(temp_df,ignore_index=True)"
   ]
  },
  {
   "cell_type": "code",
   "execution_count": 21,
   "id": "0075442a",
   "metadata": {},
   "outputs": [
    {
     "data": {
      "text/plain": [
       "(9948, 7)"
      ]
     },
     "execution_count": 21,
     "metadata": {},
     "output_type": "execute_result"
    }
   ],
   "source": [
    "df.shape"
   ]
  },
  {
   "cell_type": "code",
   "execution_count": 23,
   "id": "54459290",
   "metadata": {},
   "outputs": [
    {
     "data": {
      "text/plain": [
       "9948"
      ]
     },
     "execution_count": 23,
     "metadata": {},
     "output_type": "execute_result"
    }
   ],
   "source": [
    "response.json()[\"total_results\"]"
   ]
  },
  {
   "cell_type": "code",
   "execution_count": null,
   "id": "982d24bd",
   "metadata": {},
   "outputs": [],
   "source": []
  }
 ],
 "metadata": {
  "kernelspec": {
   "display_name": "Python 3",
   "language": "python",
   "name": "python3"
  },
  "language_info": {
   "codemirror_mode": {
    "name": "ipython",
    "version": 3
   },
   "file_extension": ".py",
   "mimetype": "text/x-python",
   "name": "python",
   "nbconvert_exporter": "python",
   "pygments_lexer": "ipython3",
   "version": "3.8.8"
  }
 },
 "nbformat": 4,
 "nbformat_minor": 5
}
