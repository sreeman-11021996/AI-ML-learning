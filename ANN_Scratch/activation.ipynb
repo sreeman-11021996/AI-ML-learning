{
  "nbformat": 4,
  "nbformat_minor": 0,
  "metadata": {
    "colab": {
      "provenance": [],
      "include_colab_link": true
    },
    "kernelspec": {
      "name": "python3",
      "display_name": "Python 3"
    },
    "language_info": {
      "name": "python"
    }
  },
  "cells": [
    {
      "cell_type": "markdown",
      "metadata": {
        "id": "view-in-github",
        "colab_type": "text"
      },
      "source": [
        "<a href=\"https://colab.research.google.com/github/sreeman-11021996/AI-ML-learning/blob/main/ANN_Scratch/activation.ipynb\" target=\"_parent\"><img src=\"https://colab.research.google.com/assets/colab-badge.svg\" alt=\"Open In Colab\"/></a>"
      ]
    },
    {
      "cell_type": "code",
      "execution_count": null,
      "metadata": {
        "id": "8CP1zmfogMPs"
      },
      "outputs": [],
      "source": [
        "from abc import ABC,abstractmethod\n",
        "import numpy as np"
      ]
    },
    {
      "cell_type": "code",
      "source": [
        "class Activation(ABC):\n",
        "  # methods required in activation\n",
        "  @abstractmethod\n",
        "  def __call__(self,input_tensor:np.ndarray)->np.ndarray:\n",
        "    ...\n",
        "  \n",
        "  @abstractmethod\n",
        "  def gradients(self,input_tensor:np.ndarray)->np.ndarray:\n",
        "    ..."
      ],
      "metadata": {
        "id": "g7TB55Bqg_X4"
      },
      "execution_count": null,
      "outputs": []
    },
    {
      "cell_type": "code",
      "source": [
        "class Sigmoid(Activation):\n",
        "\n",
        "  # simoid(x) = 1/(1+e^(-x))\n",
        "  def __call__(self,input_tensor:np.ndarray)->np.ndarray:\n",
        "    return 1/(1 + np.exp(-1*input_tensor))\n",
        "  \n",
        "  # d/dx(sigmoid(x)) = (sigmoid(x))*(1 - sigmoid(x))\n",
        "  def gradients(self,input_tensor:np.ndarray)->np.ndarray:\n",
        "    return self(input_tensor)*(1 - self(input_tensor))"
      ],
      "metadata": {
        "id": "snL0VmCHhyO_"
      },
      "execution_count": null,
      "outputs": []
    },
    {
      "cell_type": "code",
      "source": [
        "class Relu(Activation):\n",
        "\n",
        "  # Relu(x) = max(x,0)\n",
        "  def __call__(self,input_tensor:np.ndarray)->np.ndarray:\n",
        "    return np.maximum(input_tensor,0)\n",
        "\n",
        "  # d/dx(Relu(x)) = (0, if x < 0) || (1, if x >= 0)\n",
        "  def gradients(self,input_tensor:np.ndarray)->np.ndarray:\n",
        "    result = input_tensor.copy()\n",
        "    result[input_tensor >= 0] = 1\n",
        "    result[input_tensor < 0] = 0\n",
        "    return result"
      ],
      "metadata": {
        "id": "BWpUW6ulbqV5"
      },
      "execution_count": null,
      "outputs": []
    },
    {
      "cell_type": "code",
      "source": [
        "class Linear(Activation):\n",
        "\n",
        "  # Linear(x) = x\n",
        "  def __call__(self,input_tensor:np.ndarray)->np.ndarray:\n",
        "    return input_tensor\n",
        "\n",
        "  # d/dx(Linear(x)) = 1\n",
        "  def gradients(self,input_tensor:np.ndarray)->np.ndarray:\n",
        "    return np.ones(input_tensor.shape)"
      ],
      "metadata": {
        "id": "01a1-bpOdgq4"
      },
      "execution_count": null,
      "outputs": []
    },
    {
      "cell_type": "code",
      "source": [
        "class Softmax(Activation):\n",
        "  \n",
        "  def __call__(self,input_tensor:np.ndarray)->np.ndarray:\n",
        "    ...\n",
        "  \n",
        "  def gradients(self,input_tensor:np.ndarray)->np.ndarray:\n",
        "    ..."
      ],
      "metadata": {
        "id": "fO2rGpF3eEh9"
      },
      "execution_count": null,
      "outputs": []
    },
    {
      "cell_type": "code",
      "source": [],
      "metadata": {
        "id": "GCn6j3n-eyzN"
      },
      "execution_count": null,
      "outputs": []
    }
  ]
}