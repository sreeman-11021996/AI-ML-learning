{
  "nbformat": 4,
  "nbformat_minor": 0,
  "metadata": {
    "colab": {
      "provenance": [],
      "authorship_tag": "ABX9TyOWyymqKuUJofo9spS/IqM4",
      "include_colab_link": true
    },
    "kernelspec": {
      "name": "python3",
      "display_name": "Python 3"
    },
    "language_info": {
      "name": "python"
    }
  },
  "cells": [
    {
      "cell_type": "markdown",
      "metadata": {
        "id": "view-in-github",
        "colab_type": "text"
      },
      "source": [
        "<a href=\"https://colab.research.google.com/github/sreeman-11021996/AI-ML-learning/blob/main/ANN_Scratch/loss.ipynb\" target=\"_parent\"><img src=\"https://colab.research.google.com/assets/colab-badge.svg\" alt=\"Open In Colab\"/></a>"
      ]
    },
    {
      "cell_type": "code",
      "execution_count": 15,
      "metadata": {
        "id": "Mio29GxxfK5D"
      },
      "outputs": [],
      "source": [
        "from abc import ABC, abstractmethod\n",
        "import numpy as np"
      ]
    },
    {
      "cell_type": "code",
      "source": [
        "class Loss(ABC):\n",
        "\n",
        "  @abstractmethod\n",
        "  def __call__(self,y_pred:np.ndarray,y_true:np.ndarray):\n",
        "    ...\n",
        "\n",
        "  @abstractmethod\n",
        "  def gradient(self,y_pred:np.ndarray,y_true:np.ndarray)-> np.ndarray:\n",
        "    ..."
      ],
      "metadata": {
        "id": "LKu-p3Cvfb6_"
      },
      "execution_count": 16,
      "outputs": []
    },
    {
      "cell_type": "code",
      "source": [
        "class BinaryCrossEntropy(Loss):\n",
        "  def __call__(self,y_pred:np.ndarray,y_true:np.ndarray):\n",
        "    loss = -1 * (np.mean(\n",
        "        y_true*np.log(y_pred) + (1-y_true)*(np.log(1-y_pred))\n",
        "        ))\n",
        "    return loss\n",
        "\n",
        "  def gradient(self,y_pred:np.ndarray,y_true:np.ndarray)-> np.ndarray:\n",
        "    grad_loss = -1 * ((y_true/y_pred) - ((1-y_true)/(1-y_pred)))\n",
        "    return grad_loss"
      ],
      "metadata": {
        "id": "HyZeTOisgen7"
      },
      "execution_count": 17,
      "outputs": []
    },
    {
      "cell_type": "code",
      "source": [
        "class Mean_Squared_Error(Loss):\n",
        "  def __call__(self,y_pred:np.ndarray,y_true:np.ndarray):\n",
        "    loss = np.mean(np.square(y_true - y_pred))\n",
        "    return loss\n",
        "\n",
        "  def gradient(self,y_pred:np.ndarray,y_true:np.ndarray)-> np.ndarray:\n",
        "    grad_loss = -2 * (y_true - y_pred)\n",
        "    return grad_loss"
      ],
      "metadata": {
        "id": "PzDs5lk7jCmM"
      },
      "execution_count": 18,
      "outputs": []
    },
    {
      "cell_type": "code",
      "source": [
        "# Binary CrossEntropy\n",
        "# Categorical CrossEntropy\n",
        "# Mean Squared Error\n",
        "# Huber Loss\n",
        "# Hinge Loss"
      ],
      "metadata": {
        "id": "KyFqMJhCgNDe"
      },
      "execution_count": 19,
      "outputs": []
    },
    {
      "cell_type": "code",
      "source": [],
      "metadata": {
        "id": "vvQi4UpBjV_j"
      },
      "execution_count": null,
      "outputs": []
    }
  ]
}