{
 "cells": [
  {
   "cell_type": "code",
   "execution_count": 2,
   "id": "11da670f",
   "metadata": {},
   "outputs": [],
   "source": [
    "import pandas as pd\n",
    "import numpy as np\n",
    "import seaborn as sns"
   ]
  },
  {
   "cell_type": "code",
   "execution_count": 4,
   "id": "c25fc4b8",
   "metadata": {},
   "outputs": [],
   "source": [
    "data = sns.load_dataset(\"iris\")"
   ]
  },
  {
   "cell_type": "code",
   "execution_count": 6,
   "id": "e5e9279e",
   "metadata": {},
   "outputs": [
    {
     "data": {
      "text/html": [
       "<div>\n",
       "<style scoped>\n",
       "    .dataframe tbody tr th:only-of-type {\n",
       "        vertical-align: middle;\n",
       "    }\n",
       "\n",
       "    .dataframe tbody tr th {\n",
       "        vertical-align: top;\n",
       "    }\n",
       "\n",
       "    .dataframe thead th {\n",
       "        text-align: right;\n",
       "    }\n",
       "</style>\n",
       "<table border=\"1\" class=\"dataframe\">\n",
       "  <thead>\n",
       "    <tr style=\"text-align: right;\">\n",
       "      <th></th>\n",
       "      <th>sepal_length</th>\n",
       "      <th>sepal_width</th>\n",
       "      <th>petal_length</th>\n",
       "      <th>petal_width</th>\n",
       "      <th>species</th>\n",
       "    </tr>\n",
       "  </thead>\n",
       "  <tbody>\n",
       "    <tr>\n",
       "      <th>0</th>\n",
       "      <td>5.1</td>\n",
       "      <td>3.5</td>\n",
       "      <td>1.4</td>\n",
       "      <td>0.2</td>\n",
       "      <td>setosa</td>\n",
       "    </tr>\n",
       "    <tr>\n",
       "      <th>1</th>\n",
       "      <td>4.9</td>\n",
       "      <td>3.0</td>\n",
       "      <td>1.4</td>\n",
       "      <td>0.2</td>\n",
       "      <td>setosa</td>\n",
       "    </tr>\n",
       "    <tr>\n",
       "      <th>2</th>\n",
       "      <td>4.7</td>\n",
       "      <td>3.2</td>\n",
       "      <td>1.3</td>\n",
       "      <td>0.2</td>\n",
       "      <td>setosa</td>\n",
       "    </tr>\n",
       "    <tr>\n",
       "      <th>3</th>\n",
       "      <td>4.6</td>\n",
       "      <td>3.1</td>\n",
       "      <td>1.5</td>\n",
       "      <td>0.2</td>\n",
       "      <td>setosa</td>\n",
       "    </tr>\n",
       "    <tr>\n",
       "      <th>4</th>\n",
       "      <td>5.0</td>\n",
       "      <td>3.6</td>\n",
       "      <td>1.4</td>\n",
       "      <td>0.2</td>\n",
       "      <td>setosa</td>\n",
       "    </tr>\n",
       "  </tbody>\n",
       "</table>\n",
       "</div>"
      ],
      "text/plain": [
       "   sepal_length  sepal_width  petal_length  petal_width species\n",
       "0           5.1          3.5           1.4          0.2  setosa\n",
       "1           4.9          3.0           1.4          0.2  setosa\n",
       "2           4.7          3.2           1.3          0.2  setosa\n",
       "3           4.6          3.1           1.5          0.2  setosa\n",
       "4           5.0          3.6           1.4          0.2  setosa"
      ]
     },
     "execution_count": 6,
     "metadata": {},
     "output_type": "execute_result"
    }
   ],
   "source": [
    "data.head()"
   ]
  },
  {
   "cell_type": "code",
   "execution_count": null,
   "id": "77cbd707",
   "metadata": {},
   "outputs": [],
   "source": [
    "data[\"species\"].replace()"
   ]
  },
  {
   "cell_type": "code",
   "execution_count": null,
   "id": "1842526b",
   "metadata": {},
   "outputs": [],
   "source": []
  },
  {
   "cell_type": "code",
   "execution_count": 4,
   "id": "9168ec12",
   "metadata": {},
   "outputs": [
    {
     "data": {
      "text/html": [
       "<div>\n",
       "<style scoped>\n",
       "    .dataframe tbody tr th:only-of-type {\n",
       "        vertical-align: middle;\n",
       "    }\n",
       "\n",
       "    .dataframe tbody tr th {\n",
       "        vertical-align: top;\n",
       "    }\n",
       "\n",
       "    .dataframe thead th {\n",
       "        text-align: right;\n",
       "    }\n",
       "</style>\n",
       "<table border=\"1\" class=\"dataframe\">\n",
       "  <thead>\n",
       "    <tr style=\"text-align: right;\">\n",
       "      <th></th>\n",
       "      <th>subject</th>\n",
       "      <th>attention</th>\n",
       "      <th>solutions</th>\n",
       "      <th>score</th>\n",
       "    </tr>\n",
       "  </thead>\n",
       "  <tbody>\n",
       "    <tr>\n",
       "      <th>0</th>\n",
       "      <td>1</td>\n",
       "      <td>divided</td>\n",
       "      <td>1</td>\n",
       "      <td>2.0</td>\n",
       "    </tr>\n",
       "  </tbody>\n",
       "</table>\n",
       "</div>"
      ],
      "text/plain": [
       "   subject attention  solutions  score\n",
       "0        1   divided          1    2.0"
      ]
     },
     "execution_count": 4,
     "metadata": {},
     "output_type": "execute_result"
    }
   ],
   "source": [
    "data = data.drop(labels=\"Unnamed: 0\",axis=1)\n",
    "data.head(1)"
   ]
  },
  {
   "cell_type": "code",
   "execution_count": 5,
   "id": "4a81c4db",
   "metadata": {},
   "outputs": [],
   "source": [
    "# Unique Features:"
   ]
  },
  {
   "cell_type": "code",
   "execution_count": 6,
   "id": "76ddc425",
   "metadata": {},
   "outputs": [
    {
     "name": "stdout",
     "output_type": "stream",
     "text": [
      "subject  - \n",
      "[ 1  2  3  4  5  6  7  8  9 10 11 12 13 14 15 16 17 18 19 20] \n",
      " 20\n",
      "attention  - \n",
      "['divided' 'focused'] \n",
      " 2\n",
      "solutions  - \n",
      "[1 2 3] \n",
      " 3\n",
      "score  - \n",
      "[2.  3.  5.  4.  6.  8.  7.  4.5 9. ] \n",
      " 9\n"
     ]
    }
   ],
   "source": [
    "for feat in data.columns:\n",
    "    print(feat,\" - \")\n",
    "    print(data[feat].unique(),\"\\n\",len(data[feat].unique()))"
   ]
  },
  {
   "cell_type": "code",
   "execution_count": 7,
   "id": "71d3ac84",
   "metadata": {},
   "outputs": [],
   "source": [
    "X = data.drop(labels=\"attention\",axis=1)\n",
    "y = data[\"attention\"]"
   ]
  },
  {
   "cell_type": "code",
   "execution_count": 8,
   "id": "35e996fc",
   "metadata": {},
   "outputs": [
    {
     "data": {
      "text/html": [
       "<div>\n",
       "<style scoped>\n",
       "    .dataframe tbody tr th:only-of-type {\n",
       "        vertical-align: middle;\n",
       "    }\n",
       "\n",
       "    .dataframe tbody tr th {\n",
       "        vertical-align: top;\n",
       "    }\n",
       "\n",
       "    .dataframe thead th {\n",
       "        text-align: right;\n",
       "    }\n",
       "</style>\n",
       "<table border=\"1\" class=\"dataframe\">\n",
       "  <thead>\n",
       "    <tr style=\"text-align: right;\">\n",
       "      <th></th>\n",
       "      <th>subject</th>\n",
       "      <th>solutions</th>\n",
       "      <th>score</th>\n",
       "    </tr>\n",
       "  </thead>\n",
       "  <tbody>\n",
       "    <tr>\n",
       "      <th>0</th>\n",
       "      <td>1</td>\n",
       "      <td>1</td>\n",
       "      <td>2.0</td>\n",
       "    </tr>\n",
       "    <tr>\n",
       "      <th>1</th>\n",
       "      <td>2</td>\n",
       "      <td>1</td>\n",
       "      <td>3.0</td>\n",
       "    </tr>\n",
       "    <tr>\n",
       "      <th>2</th>\n",
       "      <td>3</td>\n",
       "      <td>1</td>\n",
       "      <td>3.0</td>\n",
       "    </tr>\n",
       "    <tr>\n",
       "      <th>3</th>\n",
       "      <td>4</td>\n",
       "      <td>1</td>\n",
       "      <td>5.0</td>\n",
       "    </tr>\n",
       "    <tr>\n",
       "      <th>4</th>\n",
       "      <td>5</td>\n",
       "      <td>1</td>\n",
       "      <td>4.0</td>\n",
       "    </tr>\n",
       "  </tbody>\n",
       "</table>\n",
       "</div>"
      ],
      "text/plain": [
       "   subject  solutions  score\n",
       "0        1          1    2.0\n",
       "1        2          1    3.0\n",
       "2        3          1    3.0\n",
       "3        4          1    5.0\n",
       "4        5          1    4.0"
      ]
     },
     "execution_count": 8,
     "metadata": {},
     "output_type": "execute_result"
    }
   ],
   "source": [
    "X.head()"
   ]
  },
  {
   "cell_type": "code",
   "execution_count": 9,
   "id": "fa2fb68e",
   "metadata": {},
   "outputs": [],
   "source": [
    "# Check for misisng values:"
   ]
  },
  {
   "cell_type": "code",
   "execution_count": 10,
   "id": "f11c7cf1",
   "metadata": {},
   "outputs": [
    {
     "name": "stdout",
     "output_type": "stream",
     "text": [
      "subject      0\n",
      "solutions    0\n",
      "score        0\n",
      "dtype: int64\n",
      "attention -  0\n"
     ]
    }
   ],
   "source": [
    "print(X.isnull().sum())\n",
    "print(\"attention - \",y.isnull().sum())"
   ]
  },
  {
   "cell_type": "code",
   "execution_count": 11,
   "id": "8d062944",
   "metadata": {},
   "outputs": [],
   "source": [
    "# Imbalanced dataset?"
   ]
  },
  {
   "cell_type": "code",
   "execution_count": 12,
   "id": "51e6dfc9",
   "metadata": {},
   "outputs": [
    {
     "data": {
      "text/plain": [
       "divided    30\n",
       "focused    30\n",
       "Name: attention, dtype: int64"
      ]
     },
     "execution_count": 12,
     "metadata": {},
     "output_type": "execute_result"
    }
   ],
   "source": [
    "y.value_counts()"
   ]
  },
  {
   "cell_type": "code",
   "execution_count": 13,
   "id": "223b205e",
   "metadata": {},
   "outputs": [],
   "source": [
    "# Label Encoder"
   ]
  },
  {
   "cell_type": "code",
   "execution_count": 14,
   "id": "47266e62",
   "metadata": {},
   "outputs": [],
   "source": [
    "from sklearn.preprocessing import LabelEncoder\n",
    "label = LabelEncoder()"
   ]
  },
  {
   "cell_type": "code",
   "execution_count": 15,
   "id": "93a52d22",
   "metadata": {},
   "outputs": [],
   "source": [
    "y_trf = label.fit_transform(y)"
   ]
  },
  {
   "cell_type": "code",
   "execution_count": 16,
   "id": "f676c275",
   "metadata": {},
   "outputs": [
    {
     "name": "stdout",
     "output_type": "stream",
     "text": [
      "divided  -  0\n"
     ]
    }
   ],
   "source": [
    "print(y[0], \" - \", y_trf[0])"
   ]
  },
  {
   "cell_type": "code",
   "execution_count": 17,
   "id": "dd6c18c1",
   "metadata": {},
   "outputs": [],
   "source": [
    "# CorrelationL:"
   ]
  },
  {
   "cell_type": "code",
   "execution_count": 18,
   "id": "14532b1a",
   "metadata": {},
   "outputs": [],
   "source": [
    "df_corr = X.copy()\n",
    "df_corr[\"attention\"] = y_trf"
   ]
  },
  {
   "cell_type": "code",
   "execution_count": 19,
   "id": "d2c49fd0",
   "metadata": {},
   "outputs": [
    {
     "data": {
      "text/plain": [
       "subject      0.8671\n",
       "solutions    0.0000\n",
       "score        0.5234\n",
       "attention    1.0000\n",
       "Name: attention, dtype: float64"
      ]
     },
     "execution_count": 19,
     "metadata": {},
     "output_type": "execute_result"
    }
   ],
   "source": [
    "# Correlation wrt Attention\n",
    "np.round(df_corr.corr()[\"attention\"],4)"
   ]
  },
  {
   "cell_type": "code",
   "execution_count": 20,
   "id": "e36e89fc",
   "metadata": {},
   "outputs": [
    {
     "data": {
      "text/html": [
       "<div>\n",
       "<style scoped>\n",
       "    .dataframe tbody tr th:only-of-type {\n",
       "        vertical-align: middle;\n",
       "    }\n",
       "\n",
       "    .dataframe tbody tr th {\n",
       "        vertical-align: top;\n",
       "    }\n",
       "\n",
       "    .dataframe thead th {\n",
       "        text-align: right;\n",
       "    }\n",
       "</style>\n",
       "<table border=\"1\" class=\"dataframe\">\n",
       "  <thead>\n",
       "    <tr style=\"text-align: right;\">\n",
       "      <th></th>\n",
       "      <th>subject</th>\n",
       "      <th>score</th>\n",
       "    </tr>\n",
       "  </thead>\n",
       "  <tbody>\n",
       "    <tr>\n",
       "      <th>0</th>\n",
       "      <td>1</td>\n",
       "      <td>2.0</td>\n",
       "    </tr>\n",
       "    <tr>\n",
       "      <th>1</th>\n",
       "      <td>2</td>\n",
       "      <td>3.0</td>\n",
       "    </tr>\n",
       "  </tbody>\n",
       "</table>\n",
       "</div>"
      ],
      "text/plain": [
       "   subject  score\n",
       "0        1    2.0\n",
       "1        2    3.0"
      ]
     },
     "execution_count": 20,
     "metadata": {},
     "output_type": "execute_result"
    }
   ],
   "source": [
    "# We can remove solutions column\n",
    "X.drop(labels=\"solutions\",axis=1,inplace=True)\n",
    "X.head(2)"
   ]
  },
  {
   "cell_type": "code",
   "execution_count": 21,
   "id": "1f82ab2e",
   "metadata": {},
   "outputs": [],
   "source": [
    "# Visualize the data"
   ]
  },
  {
   "cell_type": "code",
   "execution_count": 22,
   "id": "87e43558",
   "metadata": {
    "scrolled": true
   },
   "outputs": [
    {
     "data": {
      "text/plain": [
       "<AxesSubplot:xlabel='subject', ylabel='score'>"
      ]
     },
     "execution_count": 22,
     "metadata": {},
     "output_type": "execute_result"
    },
    {
     "data": {
      "image/png": "[encoded data removed]",
      "text/plain": [
       "<Figure size 432x288 with 1 Axes>"
      ]
     },
     "metadata": {
      "needs_background": "light"
     },
     "output_type": "display_data"
    }
   ],
   "source": [
    "sns.scatterplot(x = \"subject\",y =\"score\",data=X,hue=y)"
   ]
  },
  {
   "cell_type": "markdown",
   "id": "361c9a64",
   "metadata": {},
   "source": [
    "## Perception Trick:"
   ]
  },
  {
   "cell_type": "code",
   "execution_count": 23,
   "id": "4c1a24d0",
   "metadata": {},
   "outputs": [],
   "source": [
    "def step (z):\n",
    "    return  int(z > 0)"
   ]
  },
  {
   "cell_type": "code",
   "execution_count": 24,
   "id": "53ef17e4",
   "metadata": {},
   "outputs": [],
   "source": [
    "def perception (X,y,epoch=10000,lr_rate = 0.1,func = step):\n",
    "    \n",
    "    # Add the \"Xo\" to X\n",
    "    X_new = X.copy()\n",
    "    y_new = y.copy()\n",
    "    Xo = pd.Series([1 for x in range(len(X_new.index))])\n",
    "    X_new.insert(0,\"Xo\",Xo)\n",
    "    \n",
    "    # wts = [w0,w1,w2,....,wN]\n",
    "    weights = np.ones(len(X_new.columns))\n",
    "    \n",
    "    for iter_ in range(epoch):\n",
    "        # random X\n",
    "        index = np.random.randint(0,X.shape[0])\n",
    "        X_pt = np.array(X_new.iloc[index])\n",
    "        y_pt = y_new[index]\n",
    "        \n",
    "        z_pt = np.dot(X_pt,weights)\n",
    "        y_hat_pt = func(z_pt)\n",
    "        \n",
    "        weights = weights + lr_rate*(y_pt - y_hat_pt)*X_pt\n",
    "    \n",
    "    inter_ = weights[0]\n",
    "    coeff_ = weights[1:]\n",
    "    \n",
    "    return inter_,coeff_"
   ]
  },
  {
   "cell_type": "code",
   "execution_count": 25,
   "id": "5d011b19",
   "metadata": {},
   "outputs": [],
   "source": [
    "intercept_,coeff_ = perception(X,y_trf)"
   ]
  },
  {
   "cell_type": "code",
   "execution_count": 26,
   "id": "7d580ce3",
   "metadata": {},
   "outputs": [
    {
     "name": "stdout",
     "output_type": "stream",
     "text": [
      "Intercept -  -16.09999999999996\n",
      "Coefficient -  [ 1.8 -0.6]\n"
     ]
    }
   ],
   "source": [
    "print(\"Intercept - \", intercept_)\n",
    "print(\"Coefficient - \", coeff_)"
   ]
  },
  {
   "cell_type": "code",
   "execution_count": 27,
   "id": "75ddb14a",
   "metadata": {},
   "outputs": [],
   "source": [
    "def get_line (intercept_,coeff_):\n",
    "    m = -(coeff_[0]/coeff_[1])\n",
    "    b = -(intercept_/coeff_[1])\n",
    "    return m,b"
   ]
  },
  {
   "cell_type": "code",
   "execution_count": 28,
   "id": "ccc57c5a",
   "metadata": {},
   "outputs": [],
   "source": [
    "def get_input (intercept_,coeff_,x_low=10,x_high=12,x_no_pt=100):\n",
    "    m,b = get_line(intercept_,coeff_)\n",
    "    x_input = np.linspace(x_low,x_high,x_no_pt)\n",
    "    y_input = m*x_input + b\n",
    "    return x_input,y_input"
   ]
  },
  {
   "cell_type": "code",
   "execution_count": 29,
   "id": "04882227",
   "metadata": {},
   "outputs": [],
   "source": [
    "x_input,y_input = get_input(intercept_,coeff_)"
   ]
  },
  {
   "cell_type": "markdown",
   "id": "f1dba21e",
   "metadata": {},
   "source": [
    "## Sigmoid func. Impact"
   ]
  },
  {
   "cell_type": "code",
   "execution_count": 30,
   "id": "4370a267",
   "metadata": {},
   "outputs": [],
   "source": [
    "def sigmoid (z):\n",
    "    return 1/(1 + np.exp(-z))"
   ]
  },
  {
   "cell_type": "code",
   "execution_count": 31,
   "id": "57208dec",
   "metadata": {},
   "outputs": [],
   "source": [
    "intercept_sg,coeff_sg = perception(X,y_trf,func = sigmoid)"
   ]
  },
  {
   "cell_type": "code",
   "execution_count": 32,
   "id": "edd32e6a",
   "metadata": {},
   "outputs": [],
   "source": [
    "x_input_sg,y_input_sg = get_input(intercept_sg,coeff_sg)"
   ]
  },
  {
   "cell_type": "markdown",
   "id": "7c5d8352",
   "metadata": {},
   "source": [
    "## Gradient Descent"
   ]
  },
  {
   "cell_type": "code",
   "execution_count": null,
   "id": "93a6fe9c",
   "metadata": {},
   "outputs": [],
   "source": []
  },
  {
   "cell_type": "code",
   "execution_count": 45,
   "id": "1569f864",
   "metadata": {},
   "outputs": [],
   "source": [
    "def logistic (X,y,epoch=10000,lr_rate = 0.1):\n",
    "    \n",
    "    # Add the \"Xo\" to X\n",
    "    X_new = X.copy()\n",
    "    y_new = y.copy()\n",
    "    Xo = pd.Series([1 for x in range(len(X_new.index))])\n",
    "    X_new.insert(0,\"Xo\",Xo)\n",
    "    \n",
    "    # wts = [w0,w1,w2,....,wN]\n",
    "    weights = np.ones(X_new.shape[1])\n",
    "    \n",
    "    for iter_ in range(epoch):\n",
    "        z = np.dot(X_new,weights)\n",
    "        y_hat = sigmoid(z)\n",
    "        weights = weights + lr_rate*(np.dot((y-y_hat),X_new)/X_new.shape[0])\n",
    "\n",
    "    inter_ = weights[0]\n",
    "    coeff_ = weights[1:]\n",
    "    \n",
    "    return inter_,coeff_"
   ]
  },
  {
   "cell_type": "code",
   "execution_count": 55,
   "id": "28598d7a",
   "metadata": {},
   "outputs": [
    {
     "name": "stdout",
     "output_type": "stream",
     "text": [
      "intercept =  -13.077983920633455\n",
      "coefficients =  [1.25648362 0.00235223]\n"
     ]
    }
   ],
   "source": [
    "intercept_gd,coeff_gd = logistic(X,y_trf,epoch=10000,lr_rate=0.1)\n",
    "print(\"intercept = \", intercept_gd)\n",
    "print(\"coefficients = \", coeff_gd)"
   ]
  },
  {
   "cell_type": "code",
   "execution_count": 97,
   "id": "dd8476c8",
   "metadata": {},
   "outputs": [],
   "source": [
    "x_input_gd,y_input_gd = get_input(intercept_gd,coeff_gd,x_low=10.38,x_high=10.41)"
   ]
  },
  {
   "cell_type": "markdown",
   "id": "d679cb7b",
   "metadata": {},
   "source": [
    "## Logistic Regression comp. !"
   ]
  },
  {
   "cell_type": "code",
   "execution_count": 33,
   "id": "13dde11a",
   "metadata": {},
   "outputs": [
    {
     "data": {
      "text/plain": [
       "LogisticRegression()"
      ]
     },
     "execution_count": 33,
     "metadata": {},
     "output_type": "execute_result"
    }
   ],
   "source": [
    "from sklearn.linear_model import LogisticRegression\n",
    "log_reg = LogisticRegression()\n",
    "log_reg.fit(X,y_trf)"
   ]
  },
  {
   "cell_type": "code",
   "execution_count": 34,
   "id": "41298313",
   "metadata": {},
   "outputs": [],
   "source": [
    "x_input_log,y_input_log = get_input(log_reg.intercept_[0],log_reg.coef_[0])"
   ]
  },
  {
   "cell_type": "code",
   "execution_count": null,
   "id": "2ac66046",
   "metadata": {},
   "outputs": [],
   "source": []
  },
  {
   "cell_type": "markdown",
   "id": "bcc14cf7",
   "metadata": {},
   "source": [
    "## Visualize the diff. [perception & sigmoid]"
   ]
  },
  {
   "cell_type": "code",
   "execution_count": 48,
   "id": "b336faaf",
   "metadata": {},
   "outputs": [
    {
     "data": {
      "text/plain": [
       "<AxesSubplot:xlabel='subject', ylabel='score'>"
      ]
     },
     "execution_count": 48,
     "metadata": {},
     "output_type": "execute_result"
    },
    {
     "data": {
      "image/png": "[encoded data removed]",
      "text/plain": [
       "<Figure size 432x288 with 1 Axes>"
      ]
     },
     "metadata": {
      "needs_background": "light"
     },
     "output_type": "display_data"
    }
   ],
   "source": [
    "sns.scatterplot(x = \"subject\",y =\"score\",data=X,hue=y)\n",
    "sns.lineplot(x = x_input,y = y_input,color='red')\n",
    "sns.lineplot(x = x_input_sg,y = y_input_sg,color='green')\n",
    "sns.lineplot(x = x_input_log,y = y_input_log,color='black')"
   ]
  },
  {
   "cell_type": "markdown",
   "id": "520e5761",
   "metadata": {},
   "source": [
    "## Logistic Regression comp. !!"
   ]
  },
  {
   "cell_type": "code",
   "execution_count": 105,
   "id": "806912d3",
   "metadata": {},
   "outputs": [
    {
     "data": {
      "text/plain": [
       "LogisticRegression()"
      ]
     },
     "execution_count": 105,
     "metadata": {},
     "output_type": "execute_result"
    }
   ],
   "source": [
    "from sklearn.linear_model import LogisticRegression\n",
    "log_reg_basic = LogisticRegression()\n",
    "log_reg_basic.fit(X,y_trf)"
   ]
  },
  {
   "cell_type": "code",
   "execution_count": 106,
   "id": "7040afbc",
   "metadata": {},
   "outputs": [],
   "source": [
    "x_input_log_b,y_input_log_b = get_input(log_reg_basic.intercept_[0],\n",
    "                                        log_reg_basic.coef_[0])"
   ]
  },
  {
   "cell_type": "markdown",
   "id": "8bb643df",
   "metadata": {},
   "source": [
    "## Visualize the diff. [Gradient Descent]"
   ]
  },
  {
   "cell_type": "code",
   "execution_count": 107,
   "id": "10092b61",
   "metadata": {},
   "outputs": [
    {
     "data": {
      "text/plain": [
       "<AxesSubplot:xlabel='subject', ylabel='score'>"
      ]
     },
     "execution_count": 107,
     "metadata": {},
     "output_type": "execute_result"
    },
    {
     "data": {
      "image/png": "[encoded data removed]",
      "text/plain": [
       "<Figure size 432x288 with 1 Axes>"
      ]
     },
     "metadata": {
      "needs_background": "light"
     },
     "output_type": "display_data"
    }
   ],
   "source": [
    "sns.scatterplot(x = \"subject\",y =\"score\",data=X,hue=y)\n",
    "sns.lineplot(x = x_input_log_b,y = y_input_log_b,color='red')\n",
    "sns.lineplot(x = x_input_gd,y = y_input_gd,color='green')"
   ]
  },
  {
   "cell_type": "code",
   "execution_count": null,
   "id": "f7a861bb",
   "metadata": {},
   "outputs": [],
   "source": []
  }
 ],
 "metadata": {
  "kernelspec": {
   "display_name": "Python 3",
   "language": "python",
   "name": "python3"
  },
  "language_info": {
   "codemirror_mode": {
    "name": "ipython",
    "version": 3
   },
   "file_extension": ".py",
   "mimetype": "text/x-python",
   "name": "python",
   "nbconvert_exporter": "python",
   "pygments_lexer": "ipython3",
   "version": "3.8.8"
  }
 },
 "nbformat": 4,
 "nbformat_minor": 5
}
