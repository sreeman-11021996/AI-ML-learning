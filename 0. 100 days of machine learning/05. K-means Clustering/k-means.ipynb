{
 "cells": [
  {
   "cell_type": "markdown",
   "id": "a2244f50",
   "metadata": {},
   "source": [
    "### 1. Import Libraries"
   ]
  },
  {
   "cell_type": "code",
   "execution_count": 1,
   "id": "c9a70469",
   "metadata": {},
   "outputs": [],
   "source": [
    "import pandas as pd\n",
    "import numpy as np\n",
    "import seaborn as sns\n",
    "import matplotlib.pyplot as plt"
   ]
  },
  {
   "cell_type": "markdown",
   "id": "5c129a9a",
   "metadata": {},
   "source": [
    "### 2. Get dataset"
   ]
  },
  {
   "cell_type": "markdown",
   "id": "8d33b398",
   "metadata": {},
   "source": [
    "- ###   a. Bike sharing"
   ]
  },
  {
   "cell_type": "code",
   "execution_count": 2,
   "id": "e617e590",
   "metadata": {},
   "outputs": [],
   "source": [
    "df = pd.read_csv(\"bike-sharing.csv\")"
   ]
  },
  {
   "cell_type": "code",
   "execution_count": 3,
   "id": "11d7dd05",
   "metadata": {},
   "outputs": [
    {
     "data": {
      "text/plain": [
       "cnt           1.000000\n",
       "registered    0.972151\n",
       "casual        0.694564\n",
       "temp          0.404772\n",
       "atemp         0.400929\n",
       "hr            0.394071\n",
       "hum           0.322911\n",
       "instant       0.278379\n",
       "yr            0.250495\n",
       "season        0.178056\n",
       "weathersit    0.142426\n",
       "mnth          0.120638\n",
       "windspeed     0.093234\n",
       "holiday       0.030927\n",
       "workingday    0.030284\n",
       "weekday       0.026900\n",
       "Name: cnt, dtype: float64"
      ]
     },
     "execution_count": 3,
     "metadata": {},
     "output_type": "execute_result"
    }
   ],
   "source": [
    "np.abs(df.corr()[\"cnt\"]).sort_values(ascending = False)"
   ]
  },
  {
   "cell_type": "code",
   "execution_count": 4,
   "id": "0614873b",
   "metadata": {},
   "outputs": [],
   "source": [
    "df = df[[\"registered\",\"cnt\"]]"
   ]
  },
  {
   "cell_type": "code",
   "execution_count": 5,
   "id": "6e9a73a6",
   "metadata": {},
   "outputs": [
    {
     "data": {
      "text/html": [
       "<div>\n",
       "<style scoped>\n",
       "    .dataframe tbody tr th:only-of-type {\n",
       "        vertical-align: middle;\n",
       "    }\n",
       "\n",
       "    .dataframe tbody tr th {\n",
       "        vertical-align: top;\n",
       "    }\n",
       "\n",
       "    .dataframe thead th {\n",
       "        text-align: right;\n",
       "    }\n",
       "</style>\n",
       "<table border=\"1\" class=\"dataframe\">\n",
       "  <thead>\n",
       "    <tr style=\"text-align: right;\">\n",
       "      <th></th>\n",
       "      <th>registered</th>\n",
       "      <th>cnt</th>\n",
       "    </tr>\n",
       "  </thead>\n",
       "  <tbody>\n",
       "    <tr>\n",
       "      <th>0</th>\n",
       "      <td>13</td>\n",
       "      <td>16</td>\n",
       "    </tr>\n",
       "    <tr>\n",
       "      <th>1</th>\n",
       "      <td>32</td>\n",
       "      <td>40</td>\n",
       "    </tr>\n",
       "    <tr>\n",
       "      <th>2</th>\n",
       "      <td>27</td>\n",
       "      <td>32</td>\n",
       "    </tr>\n",
       "    <tr>\n",
       "      <th>3</th>\n",
       "      <td>10</td>\n",
       "      <td>13</td>\n",
       "    </tr>\n",
       "    <tr>\n",
       "      <th>4</th>\n",
       "      <td>1</td>\n",
       "      <td>1</td>\n",
       "    </tr>\n",
       "  </tbody>\n",
       "</table>\n",
       "</div>"
      ],
      "text/plain": [
       "   registered  cnt\n",
       "0          13   16\n",
       "1          32   40\n",
       "2          27   32\n",
       "3          10   13\n",
       "4           1    1"
      ]
     },
     "execution_count": 5,
     "metadata": {},
     "output_type": "execute_result"
    }
   ],
   "source": [
    "df.head()"
   ]
  },
  {
   "cell_type": "code",
   "execution_count": 6,
   "id": "aaa69dd4",
   "metadata": {},
   "outputs": [
    {
     "data": {
      "text/plain": [
       "registered    0\n",
       "cnt           0\n",
       "dtype: int64"
      ]
     },
     "execution_count": 6,
     "metadata": {},
     "output_type": "execute_result"
    }
   ],
   "source": [
    "df.isnull().sum()"
   ]
  },
  {
   "cell_type": "markdown",
   "id": "48ec4fdc",
   "metadata": {},
   "source": [
    "- ###   b. student_clustering"
   ]
  },
  {
   "cell_type": "code",
   "execution_count": 7,
   "id": "ff16eebd",
   "metadata": {},
   "outputs": [],
   "source": [
    "data = pd.read_csv(\"student_clustering.csv\")"
   ]
  },
  {
   "cell_type": "code",
   "execution_count": 8,
   "id": "010758a1",
   "metadata": {},
   "outputs": [
    {
     "data": {
      "text/html": [
       "<div>\n",
       "<style scoped>\n",
       "    .dataframe tbody tr th:only-of-type {\n",
       "        vertical-align: middle;\n",
       "    }\n",
       "\n",
       "    .dataframe tbody tr th {\n",
       "        vertical-align: top;\n",
       "    }\n",
       "\n",
       "    .dataframe thead th {\n",
       "        text-align: right;\n",
       "    }\n",
       "</style>\n",
       "<table border=\"1\" class=\"dataframe\">\n",
       "  <thead>\n",
       "    <tr style=\"text-align: right;\">\n",
       "      <th></th>\n",
       "      <th>cgpa</th>\n",
       "      <th>iq</th>\n",
       "    </tr>\n",
       "  </thead>\n",
       "  <tbody>\n",
       "    <tr>\n",
       "      <th>0</th>\n",
       "      <td>5.13</td>\n",
       "      <td>88</td>\n",
       "    </tr>\n",
       "    <tr>\n",
       "      <th>1</th>\n",
       "      <td>5.90</td>\n",
       "      <td>113</td>\n",
       "    </tr>\n",
       "    <tr>\n",
       "      <th>2</th>\n",
       "      <td>8.36</td>\n",
       "      <td>93</td>\n",
       "    </tr>\n",
       "    <tr>\n",
       "      <th>3</th>\n",
       "      <td>8.27</td>\n",
       "      <td>97</td>\n",
       "    </tr>\n",
       "    <tr>\n",
       "      <th>4</th>\n",
       "      <td>5.45</td>\n",
       "      <td>110</td>\n",
       "    </tr>\n",
       "  </tbody>\n",
       "</table>\n",
       "</div>"
      ],
      "text/plain": [
       "   cgpa   iq\n",
       "0  5.13   88\n",
       "1  5.90  113\n",
       "2  8.36   93\n",
       "3  8.27   97\n",
       "4  5.45  110"
      ]
     },
     "execution_count": 8,
     "metadata": {},
     "output_type": "execute_result"
    }
   ],
   "source": [
    "data.head()"
   ]
  },
  {
   "cell_type": "code",
   "execution_count": 9,
   "id": "6cb96cf4",
   "metadata": {},
   "outputs": [
    {
     "data": {
      "text/plain": [
       "cgpa    0\n",
       "iq      0\n",
       "dtype: int64"
      ]
     },
     "execution_count": 9,
     "metadata": {},
     "output_type": "execute_result"
    }
   ],
   "source": [
    "# Checking for missing values\n",
    "data.isnull().sum()"
   ]
  },
  {
   "cell_type": "code",
   "execution_count": 10,
   "id": "6bd5c66e",
   "metadata": {},
   "outputs": [
    {
     "data": {
      "text/plain": [
       "(200, 2)"
      ]
     },
     "execution_count": 10,
     "metadata": {},
     "output_type": "execute_result"
    }
   ],
   "source": [
    "data.shape"
   ]
  },
  {
   "cell_type": "markdown",
   "id": "8d9aff79",
   "metadata": {},
   "source": [
    "### 3.  Visualize"
   ]
  },
  {
   "cell_type": "code",
   "execution_count": 11,
   "id": "bd3a09f8",
   "metadata": {},
   "outputs": [
    {
     "name": "stderr",
     "output_type": "stream",
     "text": [
      "C:\\Users\\SREEMAN\\anaconda3\\lib\\site-packages\\seaborn\\_decorators.py:36: FutureWarning: Pass the following variables as keyword args: x, y. From version 0.12, the only valid positional argument will be `data`, and passing other arguments without an explicit keyword will result in an error or misinterpretation.\n",
      "  warnings.warn(\n"
     ]
    },
    {
     "data": {
      "text/plain": [
       "<AxesSubplot:xlabel='cgpa', ylabel='iq'>"
      ]
     },
     "execution_count": 11,
     "metadata": {},
     "output_type": "execute_result"
    },
    {
     "data": {
      "image/png": "[encoded data removed]",
      "text/plain": [
       "<Figure size 432x288 with 1 Axes>"
      ]
     },
     "metadata": {
      "needs_background": "light"
     },
     "output_type": "display_data"
    }
   ],
   "source": [
    "sns.scatterplot(data.iloc[:,0],data.iloc[:,1])"
   ]
  },
  {
   "cell_type": "code",
   "execution_count": 12,
   "id": "aad2e757",
   "metadata": {},
   "outputs": [
    {
     "name": "stderr",
     "output_type": "stream",
     "text": [
      "C:\\Users\\SREEMAN\\anaconda3\\lib\\site-packages\\seaborn\\_decorators.py:36: FutureWarning: Pass the following variables as keyword args: x, y. From version 0.12, the only valid positional argument will be `data`, and passing other arguments without an explicit keyword will result in an error or misinterpretation.\n",
      "  warnings.warn(\n"
     ]
    },
    {
     "data": {
      "text/plain": [
       "<AxesSubplot:xlabel='registered', ylabel='cnt'>"
      ]
     },
     "execution_count": 12,
     "metadata": {},
     "output_type": "execute_result"
    },
    {
     "data": {
      "image/png": "[encoded data removed]",
      "text/plain": [
       "<Figure size 432x288 with 1 Axes>"
      ]
     },
     "metadata": {
      "needs_background": "light"
     },
     "output_type": "display_data"
    }
   ],
   "source": [
    "sns.scatterplot(df.iloc[:,0],df.iloc[:,1])"
   ]
  },
  {
   "cell_type": "markdown",
   "id": "c9abd3e1",
   "metadata": {},
   "source": [
    "### 4.  K-Means"
   ]
  },
  {
   "cell_type": "code",
   "execution_count": 13,
   "id": "50c1ae6f",
   "metadata": {},
   "outputs": [],
   "source": [
    "from sklearn.cluster import KMeans"
   ]
  },
  {
   "cell_type": "code",
   "execution_count": 14,
   "id": "7e53e368",
   "metadata": {},
   "outputs": [],
   "source": [
    "def elbow_graph(X,k_range = 11):\n",
    "    wcss = []\n",
    "    K = range(1,k_range)\n",
    "    for k in K:\n",
    "        kmeans = KMeans(n_clusters=k)\n",
    "        kmeans.fit(X)\n",
    "        wcss.append(kmeans.inertia_)\n",
    "    plt.plot(K,wcss)"
   ]
  },
  {
   "cell_type": "markdown",
   "id": "b04bfd25",
   "metadata": {},
   "source": [
    "### 4.a On (student dataset)"
   ]
  },
  {
   "cell_type": "code",
   "execution_count": 15,
   "id": "db513e6d",
   "metadata": {},
   "outputs": [
    {
     "name": "stderr",
     "output_type": "stream",
     "text": [
      "C:\\Users\\SREEMAN\\anaconda3\\lib\\site-packages\\sklearn\\cluster\\_kmeans.py:1036: UserWarning: KMeans is known to have a memory leak on Windows with MKL, when there are less chunks than available threads. You can avoid it by setting the environment variable OMP_NUM_THREADS=1.\n",
      "  warnings.warn(\n"
     ]
    },
    {
     "data": {
      "image/png": "[encoded data removed]",
      "text/plain": [
       "<Figure size 432x288 with 1 Axes>"
      ]
     },
     "metadata": {
      "needs_background": "light"
     },
     "output_type": "display_data"
    }
   ],
   "source": [
    "elbow_graph(data)"
   ]
  },
  {
   "cell_type": "code",
   "execution_count": 16,
   "id": "5cd3de8f",
   "metadata": {},
   "outputs": [],
   "source": [
    "kmeans_f = KMeans(n_clusters=4,init=\"random\")\n",
    "y_means = kmeans_f.fit_predict(data)"
   ]
  },
  {
   "cell_type": "code",
   "execution_count": 17,
   "id": "f79d2ebd",
   "metadata": {
    "scrolled": true
   },
   "outputs": [
    {
     "data": {
      "text/plain": [
       "<matplotlib.collections.PathCollection at 0x1eee990db20>"
      ]
     },
     "execution_count": 17,
     "metadata": {},
     "output_type": "execute_result"
    },
    {
     "data": {
      "image/png": "[encoded data removed]",
      "text/plain": [
       "<Figure size 432x288 with 1 Axes>"
      ]
     },
     "metadata": {
      "needs_background": "light"
     },
     "output_type": "display_data"
    }
   ],
   "source": [
    "# plot\n",
    "plt.scatter(data.iloc[y_means == 0,0], data.iloc[y_means == 0,1])\n",
    "plt.scatter(data.iloc[y_means == 1,0], data.iloc[y_means == 1,1])\n",
    "plt.scatter(data.iloc[y_means == 2,0], data.iloc[y_means == 2,1])\n",
    "plt.scatter(data.iloc[y_means == 3,0], data.iloc[y_means == 3,1])"
   ]
  },
  {
   "cell_type": "code",
   "execution_count": 28,
   "id": "1ca76a59",
   "metadata": {},
   "outputs": [],
   "source": [
    "from kmeans import KMeans as km"
   ]
  },
  {
   "cell_type": "code",
   "execution_count": 29,
   "id": "3505e601",
   "metadata": {},
   "outputs": [],
   "source": [
    "kmeans_f_own= km(n_clusters=4,max_iter=500,n_init=10)\n",
    "y_means_own = kmeans_f_own.fit_predict(data)"
   ]
  },
  {
   "cell_type": "code",
   "execution_count": null,
   "id": "ec7ca48e",
   "metadata": {},
   "outputs": [],
   "source": []
  },
  {
   "cell_type": "code",
   "execution_count": 30,
   "id": "29760928",
   "metadata": {},
   "outputs": [
    {
     "data": {
      "text/plain": [
       "<matplotlib.collections.PathCollection at 0x1eee9b41c70>"
      ]
     },
     "execution_count": 30,
     "metadata": {},
     "output_type": "execute_result"
    },
    {
     "data": {
      "image/png": "[encoded data removed]",
      "text/plain": [
       "<Figure size 432x288 with 1 Axes>"
      ]
     },
     "metadata": {
      "needs_background": "light"
     },
     "output_type": "display_data"
    }
   ],
   "source": [
    "# plot\n",
    "plt.scatter(data.iloc[y_means_own == 0,0], data.iloc[y_means_own == 0,1])\n",
    "plt.scatter(data.iloc[y_means_own == 1,0], data.iloc[y_means_own == 1,1])\n",
    "plt.scatter(data.iloc[y_means_own == 2,0], data.iloc[y_means_own == 2,1])\n",
    "plt.scatter(data.iloc[y_means_own == 3,0], data.iloc[y_means_own == 3,1])"
   ]
  },
  {
   "cell_type": "code",
   "execution_count": null,
   "id": "ecb64f9c",
   "metadata": {},
   "outputs": [],
   "source": []
  },
  {
   "cell_type": "markdown",
   "id": "2d554682",
   "metadata": {},
   "source": [
    "### 4.b On (Bike sharing dataset)"
   ]
  },
  {
   "cell_type": "code",
   "execution_count": 21,
   "id": "b1d76258",
   "metadata": {},
   "outputs": [
    {
     "data": {
      "image/png": "[encoded data removed]",
      "text/plain": [
       "<Figure size 432x288 with 1 Axes>"
      ]
     },
     "metadata": {
      "needs_background": "light"
     },
     "output_type": "display_data"
    }
   ],
   "source": [
    "elbow_graph(df)"
   ]
  },
  {
   "cell_type": "code",
   "execution_count": 10,
   "id": "75561604",
   "metadata": {},
   "outputs": [],
   "source": [
    "kmeans_f2 = KMeans(n_clusters=5)\n",
    "y_means2 = kmeans_f2.fit_predict(df)"
   ]
  },
  {
   "cell_type": "code",
   "execution_count": 11,
   "id": "ee5baa0c",
   "metadata": {},
   "outputs": [
    {
     "data": {
      "text/plain": [
       "<matplotlib.collections.PathCollection at 0x1b318a796a0>"
      ]
     },
     "execution_count": 11,
     "metadata": {},
     "output_type": "execute_result"
    },
    {
     "data": {
      "image/png": "[encoded data removed]",
      "text/plain": [
       "<Figure size 432x288 with 1 Axes>"
      ]
     },
     "metadata": {
      "needs_background": "light"
     },
     "output_type": "display_data"
    }
   ],
   "source": [
    "# plot\n",
    "plt.scatter(df.iloc[y_means2 == 0,0], df.iloc[y_means2 == 0,1])\n",
    "plt.scatter(df.iloc[y_means2 == 1,0], df.iloc[y_means2 == 1,1])\n",
    "plt.scatter(df.iloc[y_means2 == 2,0], df.iloc[y_means2 == 2,1])\n",
    "plt.scatter(df.iloc[y_means2 == 3,0], df.iloc[y_means2 == 3,1])\n",
    "plt.scatter(df.iloc[y_means2 == 4,0], df.iloc[y_means2 == 4,1])"
   ]
  },
  {
   "cell_type": "code",
   "execution_count": 12,
   "id": "4ba12437",
   "metadata": {},
   "outputs": [],
   "source": [
    "from kmeans import KMeans as km"
   ]
  },
  {
   "cell_type": "code",
   "execution_count": 19,
   "id": "18a7f46b",
   "metadata": {},
   "outputs": [],
   "source": [
    "kmeans_f2_own = km(n_clusters=5,max_iter=200)\n",
    "y_means2_own = kmeans_f2.fit_predict(df)"
   ]
  },
  {
   "cell_type": "code",
   "execution_count": 20,
   "id": "3b72b3c2",
   "metadata": {},
   "outputs": [
    {
     "data": {
      "text/plain": [
       "<matplotlib.collections.PathCollection at 0x1b31b705fa0>"
      ]
     },
     "execution_count": 20,
     "metadata": {},
     "output_type": "execute_result"
    },
    {
     "data": {
      "image/png": "[encoded data removed]",
      "text/plain": [
       "<Figure size 432x288 with 1 Axes>"
      ]
     },
     "metadata": {
      "needs_background": "light"
     },
     "output_type": "display_data"
    }
   ],
   "source": [
    "# plot\n",
    "plt.scatter(df.iloc[y_means2_own == 0,0], df.iloc[y_means2_own == 0,1])\n",
    "plt.scatter(df.iloc[y_means2_own == 1,0], df.iloc[y_means2_own == 1,1])\n",
    "plt.scatter(df.iloc[y_means2_own == 2,0], df.iloc[y_means2_own == 2,1])\n",
    "plt.scatter(df.iloc[y_means2_own == 3,0], df.iloc[y_means2_own == 3,1])\n",
    "plt.scatter(df.iloc[y_means2_own == 4,0], df.iloc[y_means2_own == 4,1])"
   ]
  },
  {
   "cell_type": "code",
   "execution_count": null,
   "id": "ec80c3b4",
   "metadata": {},
   "outputs": [],
   "source": []
  }
 ],
 "metadata": {
  "kernelspec": {
   "display_name": "Python 3",
   "language": "python",
   "name": "python3"
  },
  "language_info": {
   "codemirror_mode": {
    "name": "ipython",
    "version": 3
   },
   "file_extension": ".py",
   "mimetype": "text/x-python",
   "name": "python",
   "nbconvert_exporter": "python",
   "pygments_lexer": "ipython3",
   "version": "3.8.8"
  }
 },
 "nbformat": 4,
 "nbformat_minor": 5
}
