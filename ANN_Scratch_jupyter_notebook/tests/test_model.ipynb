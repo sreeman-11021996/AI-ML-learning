{
 "cells": [
  {
   "cell_type": "code",
   "execution_count": 1,
   "id": "0f2aaf00",
   "metadata": {},
   "outputs": [
    {
     "name": "stdout",
     "output_type": "stream",
     "text": [
      "Requirement already satisfied: import-ipynb in c:\\users\\sreeman\\anaconda3\\lib\\site-packages (0.1.3)\n"
     ]
    }
   ],
   "source": [
    "!pip install import-ipynb"
   ]
  },
  {
   "cell_type": "code",
   "execution_count": 2,
   "id": "96ea8bb5",
   "metadata": {},
   "outputs": [],
   "source": [
    "import os\n",
    "os.chdir(\"../\")"
   ]
  },
  {
   "cell_type": "code",
   "execution_count": 3,
   "id": "ee12e117",
   "metadata": {},
   "outputs": [],
   "source": [
    "import import_ipynb"
   ]
  },
  {
   "cell_type": "code",
   "execution_count": 4,
   "id": "ac3e3eda",
   "metadata": {},
   "outputs": [
    {
     "name": "stdout",
     "output_type": "stream",
     "text": [
      "importing Jupyter notebook from model.ipynb\n",
      "Requirement already satisfied: import-ipynb in c:\\users\\sreeman\\anaconda3\\lib\\site-packages (0.1.3)\n",
      "importing Jupyter notebook from activation.ipynb\n",
      "importing Jupyter notebook from loss.ipynb\n",
      "importing Jupyter notebook from layers.ipynb\n"
     ]
    }
   ],
   "source": [
    "from model import ANN\n",
    "from activation import Relu,Sigmoid\n",
    "from layers import Dense\n",
    "from loss import BinaryCrossEntropy\n",
    "import numpy as np\n",
    "import unittest"
   ]
  },
  {
   "cell_type": "code",
   "execution_count": null,
   "id": "2a189929",
   "metadata": {},
   "outputs": [],
   "source": []
  },
  {
   "cell_type": "code",
   "execution_count": 7,
   "id": "82b3a2b2",
   "metadata": {},
   "outputs": [],
   "source": [
    "class Model_Test(unittest.TestCase):\n",
    "    \n",
    "    def setUp(self) -> None:\n",
    "        layers = [\n",
    "                (Dense(units=128), Relu()),\n",
    "                (Dense(units=128), Relu()),\n",
    "                (Dense(units=10), Sigmoid())\n",
    "            ]\n",
    "        loss = BinaryCrossEntropy()\n",
    "        self._ANN = ANN(layers=layers, loss=loss, learning_rate=0.1)\n",
    "            \n",
    "    def test_ANN(self):\n",
    "        _input = np.zeros((784,16))\n",
    "        _output = self._ANN(_input)\n",
    "        \n",
    "        self.assertEqual(_output.shape, (10, 16))\n",
    "        self.assertAlmostEqual(float(_output[0][0]), 0.5)"
   ]
  },
  {
   "cell_type": "code",
   "execution_count": 8,
   "id": "0b4d1d98",
   "metadata": {},
   "outputs": [
    {
     "name": "stderr",
     "output_type": "stream",
     "text": [
      "test_ANN (__main__.Model_Test) ... ok\n",
      "\n",
      "----------------------------------------------------------------------\n",
      "Ran 1 test in 0.007s\n",
      "\n",
      "OK\n"
     ]
    },
    {
     "data": {
      "text/plain": [
       "<unittest.main.TestProgram at 0x26e71fc3b20>"
      ]
     },
     "execution_count": 8,
     "metadata": {},
     "output_type": "execute_result"
    }
   ],
   "source": [
    "unittest.main(argv =[''],verbosity=2,exit=False)"
   ]
  },
  {
   "cell_type": "code",
   "execution_count": null,
   "id": "4a7b5ee8",
   "metadata": {},
   "outputs": [],
   "source": []
  }
 ],
 "metadata": {
  "kernelspec": {
   "display_name": "Python 3",
   "language": "python",
   "name": "python3"
  },
  "language_info": {
   "codemirror_mode": {
    "name": "ipython",
    "version": 3
   },
   "file_extension": ".py",
   "mimetype": "text/x-python",
   "name": "python",
   "nbconvert_exporter": "python",
   "pygments_lexer": "ipython3",
   "version": "3.8.8"
  }
 },
 "nbformat": 4,
 "nbformat_minor": 5
}
