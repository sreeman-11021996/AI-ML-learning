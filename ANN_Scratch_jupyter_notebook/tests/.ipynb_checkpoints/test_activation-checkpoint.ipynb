{
 "cells": [
  {
   "cell_type": "code",
   "execution_count": 1,
   "id": "cdb3cc69",
   "metadata": {},
   "outputs": [
    {
     "name": "stdout",
     "output_type": "stream",
     "text": [
      "Requirement already satisfied: import-ipynb in c:\\users\\sreeman\\anaconda3\\lib\\site-packages (0.1.3)\n"
     ]
    }
   ],
   "source": [
    "!pip install import-ipynb"
   ]
  },
  {
   "cell_type": "code",
   "execution_count": 2,
   "id": "fd49efa5",
   "metadata": {},
   "outputs": [],
   "source": [
    "import os\n",
    "os.chdir(\"../\")"
   ]
  },
  {
   "cell_type": "code",
   "execution_count": 3,
   "id": "dea8d6df",
   "metadata": {},
   "outputs": [],
   "source": [
    "import import_ipynb"
   ]
  },
  {
   "cell_type": "code",
   "execution_count": 4,
   "id": "4e44c6b1",
   "metadata": {},
   "outputs": [
    {
     "name": "stdout",
     "output_type": "stream",
     "text": [
      "importing Jupyter notebook from activation.ipynb\n"
     ]
    }
   ],
   "source": [
    "import activation\n",
    "import numpy as np\n",
    "import unittest"
   ]
  },
  {
   "cell_type": "code",
   "execution_count": 9,
   "id": "54850949",
   "metadata": {},
   "outputs": [],
   "source": [
    "class Activation_Test(unittest.TestCase):\n",
    "    \n",
    "    def test_relu(self):\n",
    "        _input = np.array([-1, 1])\n",
    "        _output = np.array([0, 1])\n",
    "\n",
    "        relu = activation.Relu()\n",
    "\n",
    "        # Checking shapes\n",
    "        self.assertEqual(relu(np.random.randn(10, 20)).shape, (10, 20))\n",
    "        self.assertEqual(relu.gradients(np.random.randn(10, 20)).shape, \n",
    "                         (10, 20))\n",
    "        \n",
    "        # Checking values\n",
    "        self.assertEqual(relu(_input).tolist(), _output.tolist())\n",
    "        self.assertEqual(relu.gradients(_input).tolist(), _output.tolist())\n",
    "    \n",
    "    def test_sigmoid(self):\n",
    "        _input = np.array([-100, 0, 100])\n",
    "        \n",
    "        sigmoid = activation.Sigmoid()\n",
    "        \n",
    "        # Checking shapes\n",
    "        self.assertEqual(sigmoid(np.random.randn(10, 20)).shape, (10, 20))\n",
    "        self.assertEqual(sigmoid.gradients(np.random.randn(10, 20)).shape, \n",
    "                         (10, 20))\n",
    "        \n",
    "        # Checking values\n",
    "        self.assertEqual(round(sigmoid(_input[0]),2), 0.0)\n",
    "        self.assertEqual(round(sigmoid(_input[1]),2), 0.5)\n",
    "        self.assertEqual(round(sigmoid(_input[2]),2), 1.0)\n",
    "        self.assertEqual(round(sigmoid.gradients(_input[0]),2), 0.0)\n",
    "        self.assertEqual(round(sigmoid.gradients(_input[2]),2), 0.0)\n",
    "        "
   ]
  },
  {
   "cell_type": "code",
   "execution_count": 10,
   "id": "0a967daf",
   "metadata": {},
   "outputs": [
    {
     "name": "stderr",
     "output_type": "stream",
     "text": [
      "test_relu (__main__.Activation_Test) ... ok\n",
      "test_sigmoid (__main__.Activation_Test) ... ok\n",
      "\n",
      "----------------------------------------------------------------------\n",
      "Ran 2 tests in 0.003s\n",
      "\n",
      "OK\n"
     ]
    },
    {
     "data": {
      "text/plain": [
       "<unittest.main.TestProgram at 0x2856719b910>"
      ]
     },
     "execution_count": 10,
     "metadata": {},
     "output_type": "execute_result"
    }
   ],
   "source": [
    "unittest.main(argv =[''],verbosity=2,exit=False)"
   ]
  },
  {
   "cell_type": "code",
   "execution_count": null,
   "id": "1bfea0ed",
   "metadata": {},
   "outputs": [],
   "source": []
  }
 ],
 "metadata": {
  "kernelspec": {
   "display_name": "Python 3",
   "language": "python",
   "name": "python3"
  },
  "language_info": {
   "codemirror_mode": {
    "name": "ipython",
    "version": 3
   },
   "file_extension": ".py",
   "mimetype": "text/x-python",
   "name": "python",
   "nbconvert_exporter": "python",
   "pygments_lexer": "ipython3",
   "version": "3.8.8"
  }
 },
 "nbformat": 4,
 "nbformat_minor": 5
}
