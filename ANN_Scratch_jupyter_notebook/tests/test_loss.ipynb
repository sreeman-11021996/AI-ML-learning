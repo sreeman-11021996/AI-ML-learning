{
 "cells": [
  {
   "cell_type": "code",
   "execution_count": 1,
   "id": "30393653",
   "metadata": {},
   "outputs": [
    {
     "name": "stdout",
     "output_type": "stream",
     "text": [
      "Requirement already satisfied: import-ipynb in c:\\users\\sreeman\\anaconda3\\lib\\site-packages (0.1.3)\n"
     ]
    }
   ],
   "source": [
    "!pip install import-ipynb"
   ]
  },
  {
   "cell_type": "code",
   "execution_count": 2,
   "id": "f4fd95f5",
   "metadata": {},
   "outputs": [],
   "source": [
    "import os\n",
    "os.chdir(\"../\")"
   ]
  },
  {
   "cell_type": "code",
   "execution_count": 4,
   "id": "caffecb7",
   "metadata": {},
   "outputs": [],
   "source": [
    "import import_ipynb"
   ]
  },
  {
   "cell_type": "code",
   "execution_count": 9,
   "id": "17901c6b",
   "metadata": {},
   "outputs": [],
   "source": [
    "import loss\n",
    "import unittest\n",
    "import numpy as np"
   ]
  },
  {
   "cell_type": "code",
   "execution_count": 14,
   "id": "2be5f580",
   "metadata": {},
   "outputs": [],
   "source": [
    "class Loss_Test(unittest.TestCase):\n",
    "    \n",
    "    def test_BinaryCrossEntrpy_gradient(self):\n",
    "        \n",
    "        _num_examples = 100\n",
    "        _num_features = 20\n",
    "        \n",
    "        _predictions =np.abs(np.random.randn(_num_features, _num_examples))\n",
    "        _predictions = _predictions / np.max(_predictions)\n",
    "        _labels = np.ones((_num_features, _num_examples)) - 0.01\n",
    "        \n",
    "        bce = loss.BinaryCrossEntropy()\n",
    "        _output_high = bce(_predictions, _labels)\n",
    "        _output_low = bce(_labels, _labels)\n",
    "        \n",
    "        self.assertGreater(_output_high.mean(), _output_low.mean())\n",
    "        self.assertGreater(0.1, float(_output_low))\n",
    "        \n",
    "    def test_Mean_Squared_Error(self):\n",
    "        ..."
   ]
  },
  {
   "cell_type": "code",
   "execution_count": 15,
   "id": "4c6d76cb",
   "metadata": {},
   "outputs": [
    {
     "name": "stderr",
     "output_type": "stream",
     "text": [
      "test_BinaryCrossEntrpy_gradient (__main__.Loss_Test) ... <string>:4: RuntimeWarning: divide by zero encountered in log\n",
      "ok\n",
      "test_Mean_Squared_Error (__main__.Loss_Test) ... ok\n",
      "\n",
      "----------------------------------------------------------------------\n",
      "Ran 2 tests in 0.005s\n",
      "\n",
      "OK\n"
     ]
    },
    {
     "data": {
      "text/plain": [
       "<unittest.main.TestProgram at 0x2699bfb4100>"
      ]
     },
     "execution_count": 15,
     "metadata": {},
     "output_type": "execute_result"
    }
   ],
   "source": [
    "unittest.main(argv =[''],verbosity=2,exit=False)"
   ]
  },
  {
   "cell_type": "code",
   "execution_count": null,
   "id": "8c7fafec",
   "metadata": {},
   "outputs": [],
   "source": []
  }
 ],
 "metadata": {
  "kernelspec": {
   "display_name": "Python 3",
   "language": "python",
   "name": "python3"
  },
  "language_info": {
   "codemirror_mode": {
    "name": "ipython",
    "version": 3
   },
   "file_extension": ".py",
   "mimetype": "text/x-python",
   "name": "python",
   "nbconvert_exporter": "python",
   "pygments_lexer": "ipython3",
   "version": "3.8.8"
  }
 },
 "nbformat": 4,
 "nbformat_minor": 5
}
