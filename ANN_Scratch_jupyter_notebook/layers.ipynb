{
 "cells": [
  {
   "cell_type": "code",
   "execution_count": 1,
   "metadata": {
    "executionInfo": {
     "elapsed": 5,
     "status": "ok",
     "timestamp": 1672203903939,
     "user": {
      "displayName": "Srinivaas M.B.",
      "userId": "15378825045206759524"
     },
     "user_tz": -330
    },
    "id": "-VEresgh6ytl"
   },
   "outputs": [],
   "source": [
    "from abc import ABC,abstractmethod\n",
    "import numpy as np"
   ]
  },
  {
   "cell_type": "code",
   "execution_count": 2,
   "metadata": {
    "executionInfo": {
     "elapsed": 20,
     "status": "ok",
     "timestamp": 1672203908138,
     "user": {
      "displayName": "Srinivaas M.B.",
      "userId": "15378825045206759524"
     },
     "user_tz": -330
    },
    "id": "NWRSaLWo7rnW"
   },
   "outputs": [],
   "source": [
    "class Layer(ABC):\n",
    "\n",
    "    @property\n",
    "    @abstractmethod\n",
    "    def output(self):\n",
    "        ...\n",
    "  \n",
    "    @abstractmethod\n",
    "    def __call__ (self,input_tensor:np.ndarray)->np.ndarray:\n",
    "        ...\n",
    "\n",
    "    @abstractmethod\n",
    "    def build (self,input_tensor:np.ndarray):\n",
    "        ...\n",
    "  \n",
    "    @abstractmethod\n",
    "    def update (self, learning_rate:float):\n",
    "        ...\n",
    "  "
   ]
  },
  {
   "cell_type": "code",
   "execution_count": 3,
   "metadata": {
    "executionInfo": {
     "elapsed": 6,
     "status": "ok",
     "timestamp": 1672203910003,
     "user": {
      "displayName": "Srinivaas M.B.",
      "userId": "15378825045206759524"
     },
     "user_tz": -330
    },
    "id": "NeJ_pJJ0AqLg"
   },
   "outputs": [],
   "source": [
    "class Dense(Layer):\n",
    "    SGD = \"sgd\"\n",
    "    HE_NORM = \"he_normal\"\n",
    "    GLORAT_NORM = \"glorat_normal\"\n",
    "\n",
    "    def __init__ (self,units:int,weight_kernel=\"he_normal\"):\n",
    "        \"\"\"\n",
    "        attributes:\n",
    "        units -> int\n",
    "        weight_kernel = \"he_normal\",\"glorat_normal\"\n",
    "        \"\"\"\n",
    "        self._units = units\n",
    "        self._input_units = None\n",
    "        self._weights:np.ndarray = None\n",
    "        self._bias:np.ndarray = None\n",
    "        self._d_w:np.ndarray = None\n",
    "        self._d_b:np.ndarray = None\n",
    "        self._output = None\n",
    "        self._weight_kernel:str = weight_kernel\n",
    "        self._optimizer:str = Dense.SGD\n",
    "\n",
    "    @property\n",
    "    def grad_weights(self):\n",
    "        return self._d_w\n",
    "  \n",
    "    @grad_weights.setter\n",
    "    def grad_weights(self,gradients:np.ndarray):\n",
    "        self._d_w = gradients\n",
    "  \n",
    "    @property\n",
    "    def grad_bias(self):\n",
    "        return self._d_b\n",
    "\n",
    "    @grad_bias.setter\n",
    "    def grad_bias(self,gradients:np.ndarray):\n",
    "        self._d_b = gradients\n",
    "\n",
    "    @property\n",
    "    def weights(self):\n",
    "        return self._weights\n",
    "  \n",
    "    @property\n",
    "    def bias(self):\n",
    "        return self._bias\n",
    "\n",
    "    @property\n",
    "    def output(self):\n",
    "        return self._output\n",
    "\n",
    "    @property\n",
    "    def optimizer(self):\n",
    "        return self._optimizer\n",
    "\n",
    "    @optimizer.setter\n",
    "    def optimizer(self,optimizer:str):\n",
    "        self._optimizer = optimizer\n",
    "\n",
    "  \n",
    "    def weight_kernel(self)->float:\n",
    "        if self._weight_kernel == Dense.HE_NORM:\n",
    "            std = np.sqrt(2.0/(self._input_units))\n",
    "        elif self._weight_kernel == Dense.GLORAT_NORM:\n",
    "            std = np.sqrt(2.0/(self._input_units + self._units))\n",
    "        return std\n",
    "\n",
    "\n",
    "    def build(self,input_tensor:np.ndarray):\n",
    "        self._input_units = input_tensor.shape[0]\n",
    "        self._weights = np.random.randn(self._units,self._input_units)*self.weight_kernel()\n",
    "        self._bias = np.zeros((self._units,1))\n",
    "\n",
    "    def __call__ (self,input_tensor:np.ndarray)->np.ndarray:\n",
    "        if self._weights is None:\n",
    "            self.build(input_tensor=input_tensor)\n",
    "\n",
    "        self._output = np.dot(self._weights,input_tensor) + self._bias\n",
    "        return self._output\n",
    "\n",
    "    def update (self, learning_rate:float):\n",
    "        if self._optimizer == Dense.SGD:\n",
    "            self._sgd(learning_rate=learning_rate)\n",
    "\n",
    "    def _sgd(self, learning_rate:float):\n",
    "        self._weights = self._weights + learning_rate*self._d_w\n",
    "        self._bias = self._bias + learning_rate*self._d_b\n"
   ]
  },
  {
   "cell_type": "code",
   "execution_count": null,
   "metadata": {
    "id": "rKOcudvMeSLY"
   },
   "outputs": [],
   "source": []
  }
 ],
 "metadata": {
  "colab": {
   "provenance": []
  },
  "kernelspec": {
   "display_name": "Python 3",
   "language": "python",
   "name": "python3"
  },
  "language_info": {
   "codemirror_mode": {
    "name": "ipython",
    "version": 3
   },
   "file_extension": ".py",
   "mimetype": "text/x-python",
   "name": "python",
   "nbconvert_exporter": "python",
   "pygments_lexer": "ipython3",
   "version": "3.8.8"
  }
 },
 "nbformat": 4,
 "nbformat_minor": 1
}
