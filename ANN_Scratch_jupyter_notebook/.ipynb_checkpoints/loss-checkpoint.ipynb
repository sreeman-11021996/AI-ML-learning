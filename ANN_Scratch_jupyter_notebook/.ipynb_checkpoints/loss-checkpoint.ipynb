{
 "cells": [
  {
   "cell_type": "code",
   "execution_count": 1,
   "metadata": {
    "id": "Mio29GxxfK5D"
   },
   "outputs": [],
   "source": [
    "from abc import ABC, abstractmethod\n",
    "import numpy as np"
   ]
  },
  {
   "cell_type": "code",
   "execution_count": 2,
   "metadata": {
    "id": "LKu-p3Cvfb6_"
   },
   "outputs": [],
   "source": [
    "class Loss(ABC):\n",
    "\n",
    "    @abstractmethod\n",
    "    def __call__(self,y_pred:np.ndarray,y_true:np.ndarray):\n",
    "        ...\n",
    "\n",
    "    @abstractmethod\n",
    "    def gradient(self,y_pred:np.ndarray,y_true:np.ndarray)-> np.ndarray:\n",
    "        ..."
   ]
  },
  {
   "cell_type": "code",
   "execution_count": 3,
   "metadata": {
    "id": "HyZeTOisgen7"
   },
   "outputs": [],
   "source": [
    "class BinaryCrossEntropy(Loss):\n",
    "    def __call__(self,y_pred:np.ndarray,y_true:np.ndarray):\n",
    "        loss = -1 * (np.mean(\n",
    "            y_true*np.log(y_pred) + (1-y_true)*(np.log(1-y_pred))\n",
    "            ))\n",
    "        return loss\n",
    "\n",
    "    def gradient(self,y_pred:np.ndarray,y_true:np.ndarray)-> np.ndarray:\n",
    "        grad_loss = -1 * ((y_true/y_pred) - ((1-y_true)/(1-y_pred)))\n",
    "        return grad_loss"
   ]
  },
  {
   "cell_type": "code",
   "execution_count": 4,
   "metadata": {
    "id": "PzDs5lk7jCmM"
   },
   "outputs": [],
   "source": [
    "class Mean_Squared_Error(Loss):\n",
    "    def __call__(self,y_pred:np.ndarray,y_true:np.ndarray):\n",
    "        loss = np.mean(np.square(y_true - y_pred))\n",
    "        return loss\n",
    "\n",
    "    def gradient(self,y_pred:np.ndarray,y_true:np.ndarray)-> np.ndarray:\n",
    "        grad_loss = -2 * (y_true - y_pred)\n",
    "        return grad_loss"
   ]
  },
  {
   "cell_type": "code",
   "execution_count": 5,
   "metadata": {
    "id": "KyFqMJhCgNDe"
   },
   "outputs": [],
   "source": [
    "# Binary CrossEntropy\n",
    "# Categorical CrossEntropy\n",
    "# Mean Squared Error\n",
    "# Huber Loss\n",
    "# Hinge Loss"
   ]
  },
  {
   "cell_type": "code",
   "execution_count": null,
   "metadata": {
    "id": "vvQi4UpBjV_j"
   },
   "outputs": [],
   "source": []
  }
 ],
 "metadata": {
  "colab": {
   "provenance": []
  },
  "kernelspec": {
   "display_name": "Python 3",
   "language": "python",
   "name": "python3"
  },
  "language_info": {
   "codemirror_mode": {
    "name": "ipython",
    "version": 3
   },
   "file_extension": ".py",
   "mimetype": "text/x-python",
   "name": "python",
   "nbconvert_exporter": "python",
   "pygments_lexer": "ipython3",
   "version": "3.8.8"
  }
 },
 "nbformat": 4,
 "nbformat_minor": 1
}
